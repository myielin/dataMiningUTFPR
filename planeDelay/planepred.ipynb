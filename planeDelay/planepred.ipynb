{
  "nbformat": 4,
  "nbformat_minor": 0,
  "metadata": {
    "colab": {
      "provenance": [],
      "authorship_tag": "ABX9TyNBsfN09PWsn+xbweRFQ/PW",
      "include_colab_link": true
    },
    "kernelspec": {
      "name": "python3",
      "display_name": "Python 3"
    },
    "language_info": {
      "name": "python"
    }
  },
  "cells": [
    {
      "cell_type": "markdown",
      "metadata": {
        "id": "view-in-github",
        "colab_type": "text"
      },
      "source": [
        "<a href=\"https://colab.research.google.com/github/myielin/dataMiningUTFPR/blob/master/planeDelay/planepred.ipynb\" target=\"_parent\"><img src=\"https://colab.research.google.com/assets/colab-badge.svg\" alt=\"Open In Colab\"/></a>"
      ]
    },
    {
      "cell_type": "markdown",
      "source": [
        "#### imports e inicialização da base de dados\n",
        "\n",
        "[link do repositório no Github](https://github.com/myielin/dataMiningUTFPR/tree/master/planeDelay)\n",
        "\n"
      ],
      "metadata": {
        "id": "GM0IcyhdlV-A"
      }
    },
    {
      "cell_type": "code",
      "source": [
        "import warnings\n",
        "warnings.filterwarnings(\"ignore\")"
      ],
      "metadata": {
        "id": "RbDsxjTiosbr"
      },
      "execution_count": 6,
      "outputs": []
    },
    {
      "cell_type": "code",
      "execution_count": 7,
      "metadata": {
        "id": "1I5nemX0giF3"
      },
      "outputs": [],
      "source": [
        "import pandas as pd"
      ]
    },
    {
      "cell_type": "code",
      "source": [
        "dados = pd.read_csv(\"https://raw.githubusercontent.com/myielin/dataMiningUTFPR/master/planeDelay/Airlines.csv\")"
      ],
      "metadata": {
        "id": "PChdjQbmlIMf"
      },
      "execution_count": 8,
      "outputs": []
    },
    {
      "cell_type": "code",
      "source": [
        "dados.tail()"
      ],
      "metadata": {
        "colab": {
          "base_uri": "https://localhost:8080/",
          "height": 206
        },
        "id": "2uQSrx53k7B7",
        "outputId": "d252d38a-1cec-41d3-8b4d-71208de0a8f3"
      },
      "execution_count": 9,
      "outputs": [
        {
          "output_type": "execute_result",
          "data": {
            "text/plain": [
              "            id Airline  Flight AirportFrom AirportTo  DayOfWeek  Time  Length  \\\n",
              "539378  539379      CO     178         OGG       SNA          5  1439     326   \n",
              "539379  539380      FL     398         SEA       ATL          5  1439     305   \n",
              "539380  539381      FL     609         SFO       MKE          5  1439     255   \n",
              "539381  539382      UA      78         HNL       SFO          5  1439     313   \n",
              "539382  539383      US    1442         LAX       PHL          5  1439     301   \n",
              "\n",
              "        Delay  \n",
              "539378      0  \n",
              "539379      0  \n",
              "539380      0  \n",
              "539381      1  \n",
              "539382      1  "
            ],
            "text/html": [
              "\n",
              "  <div id=\"df-281dadf2-7bad-4644-8240-0061a38afa36\">\n",
              "    <div class=\"colab-df-container\">\n",
              "      <div>\n",
              "<style scoped>\n",
              "    .dataframe tbody tr th:only-of-type {\n",
              "        vertical-align: middle;\n",
              "    }\n",
              "\n",
              "    .dataframe tbody tr th {\n",
              "        vertical-align: top;\n",
              "    }\n",
              "\n",
              "    .dataframe thead th {\n",
              "        text-align: right;\n",
              "    }\n",
              "</style>\n",
              "<table border=\"1\" class=\"dataframe\">\n",
              "  <thead>\n",
              "    <tr style=\"text-align: right;\">\n",
              "      <th></th>\n",
              "      <th>id</th>\n",
              "      <th>Airline</th>\n",
              "      <th>Flight</th>\n",
              "      <th>AirportFrom</th>\n",
              "      <th>AirportTo</th>\n",
              "      <th>DayOfWeek</th>\n",
              "      <th>Time</th>\n",
              "      <th>Length</th>\n",
              "      <th>Delay</th>\n",
              "    </tr>\n",
              "  </thead>\n",
              "  <tbody>\n",
              "    <tr>\n",
              "      <th>539378</th>\n",
              "      <td>539379</td>\n",
              "      <td>CO</td>\n",
              "      <td>178</td>\n",
              "      <td>OGG</td>\n",
              "      <td>SNA</td>\n",
              "      <td>5</td>\n",
              "      <td>1439</td>\n",
              "      <td>326</td>\n",
              "      <td>0</td>\n",
              "    </tr>\n",
              "    <tr>\n",
              "      <th>539379</th>\n",
              "      <td>539380</td>\n",
              "      <td>FL</td>\n",
              "      <td>398</td>\n",
              "      <td>SEA</td>\n",
              "      <td>ATL</td>\n",
              "      <td>5</td>\n",
              "      <td>1439</td>\n",
              "      <td>305</td>\n",
              "      <td>0</td>\n",
              "    </tr>\n",
              "    <tr>\n",
              "      <th>539380</th>\n",
              "      <td>539381</td>\n",
              "      <td>FL</td>\n",
              "      <td>609</td>\n",
              "      <td>SFO</td>\n",
              "      <td>MKE</td>\n",
              "      <td>5</td>\n",
              "      <td>1439</td>\n",
              "      <td>255</td>\n",
              "      <td>0</td>\n",
              "    </tr>\n",
              "    <tr>\n",
              "      <th>539381</th>\n",
              "      <td>539382</td>\n",
              "      <td>UA</td>\n",
              "      <td>78</td>\n",
              "      <td>HNL</td>\n",
              "      <td>SFO</td>\n",
              "      <td>5</td>\n",
              "      <td>1439</td>\n",
              "      <td>313</td>\n",
              "      <td>1</td>\n",
              "    </tr>\n",
              "    <tr>\n",
              "      <th>539382</th>\n",
              "      <td>539383</td>\n",
              "      <td>US</td>\n",
              "      <td>1442</td>\n",
              "      <td>LAX</td>\n",
              "      <td>PHL</td>\n",
              "      <td>5</td>\n",
              "      <td>1439</td>\n",
              "      <td>301</td>\n",
              "      <td>1</td>\n",
              "    </tr>\n",
              "  </tbody>\n",
              "</table>\n",
              "</div>\n",
              "      <button class=\"colab-df-convert\" onclick=\"convertToInteractive('df-281dadf2-7bad-4644-8240-0061a38afa36')\"\n",
              "              title=\"Convert this dataframe to an interactive table.\"\n",
              "              style=\"display:none;\">\n",
              "        \n",
              "  <svg xmlns=\"http://www.w3.org/2000/svg\" height=\"24px\"viewBox=\"0 0 24 24\"\n",
              "       width=\"24px\">\n",
              "    <path d=\"M0 0h24v24H0V0z\" fill=\"none\"/>\n",
              "    <path d=\"M18.56 5.44l.94 2.06.94-2.06 2.06-.94-2.06-.94-.94-2.06-.94 2.06-2.06.94zm-11 1L8.5 8.5l.94-2.06 2.06-.94-2.06-.94L8.5 2.5l-.94 2.06-2.06.94zm10 10l.94 2.06.94-2.06 2.06-.94-2.06-.94-.94-2.06-.94 2.06-2.06.94z\"/><path d=\"M17.41 7.96l-1.37-1.37c-.4-.4-.92-.59-1.43-.59-.52 0-1.04.2-1.43.59L10.3 9.45l-7.72 7.72c-.78.78-.78 2.05 0 2.83L4 21.41c.39.39.9.59 1.41.59.51 0 1.02-.2 1.41-.59l7.78-7.78 2.81-2.81c.8-.78.8-2.07 0-2.86zM5.41 20L4 18.59l7.72-7.72 1.47 1.35L5.41 20z\"/>\n",
              "  </svg>\n",
              "      </button>\n",
              "      \n",
              "  <style>\n",
              "    .colab-df-container {\n",
              "      display:flex;\n",
              "      flex-wrap:wrap;\n",
              "      gap: 12px;\n",
              "    }\n",
              "\n",
              "    .colab-df-convert {\n",
              "      background-color: #E8F0FE;\n",
              "      border: none;\n",
              "      border-radius: 50%;\n",
              "      cursor: pointer;\n",
              "      display: none;\n",
              "      fill: #1967D2;\n",
              "      height: 32px;\n",
              "      padding: 0 0 0 0;\n",
              "      width: 32px;\n",
              "    }\n",
              "\n",
              "    .colab-df-convert:hover {\n",
              "      background-color: #E2EBFA;\n",
              "      box-shadow: 0px 1px 2px rgba(60, 64, 67, 0.3), 0px 1px 3px 1px rgba(60, 64, 67, 0.15);\n",
              "      fill: #174EA6;\n",
              "    }\n",
              "\n",
              "    [theme=dark] .colab-df-convert {\n",
              "      background-color: #3B4455;\n",
              "      fill: #D2E3FC;\n",
              "    }\n",
              "\n",
              "    [theme=dark] .colab-df-convert:hover {\n",
              "      background-color: #434B5C;\n",
              "      box-shadow: 0px 1px 3px 1px rgba(0, 0, 0, 0.15);\n",
              "      filter: drop-shadow(0px 1px 2px rgba(0, 0, 0, 0.3));\n",
              "      fill: #FFFFFF;\n",
              "    }\n",
              "  </style>\n",
              "\n",
              "      <script>\n",
              "        const buttonEl =\n",
              "          document.querySelector('#df-281dadf2-7bad-4644-8240-0061a38afa36 button.colab-df-convert');\n",
              "        buttonEl.style.display =\n",
              "          google.colab.kernel.accessAllowed ? 'block' : 'none';\n",
              "\n",
              "        async function convertToInteractive(key) {\n",
              "          const element = document.querySelector('#df-281dadf2-7bad-4644-8240-0061a38afa36');\n",
              "          const dataTable =\n",
              "            await google.colab.kernel.invokeFunction('convertToInteractive',\n",
              "                                                     [key], {});\n",
              "          if (!dataTable) return;\n",
              "\n",
              "          const docLinkHtml = 'Like what you see? Visit the ' +\n",
              "            '<a target=\"_blank\" href=https://colab.research.google.com/notebooks/data_table.ipynb>data table notebook</a>'\n",
              "            + ' to learn more about interactive tables.';\n",
              "          element.innerHTML = '';\n",
              "          dataTable['output_type'] = 'display_data';\n",
              "          await google.colab.output.renderOutput(dataTable, element);\n",
              "          const docLink = document.createElement('div');\n",
              "          docLink.innerHTML = docLinkHtml;\n",
              "          element.appendChild(docLink);\n",
              "        }\n",
              "      </script>\n",
              "    </div>\n",
              "  </div>\n",
              "  "
            ]
          },
          "metadata": {},
          "execution_count": 9
        }
      ]
    },
    {
      "cell_type": "markdown",
      "source": [
        "### Perguntas"
      ],
      "metadata": {
        "id": "k-TrZFAmzONC"
      }
    },
    {
      "cell_type": "markdown",
      "source": [
        "**Qual a empresa aérea que possui maior quantidade de voos?**"
      ],
      "metadata": {
        "id": "b5tk9zl7zPcr"
      }
    },
    {
      "cell_type": "code",
      "source": [
        "# primeiro serão verificadas quais são as empresas do conjunto:\n",
        "\n",
        "dados[\"Airline\"].unique()"
      ],
      "metadata": {
        "colab": {
          "base_uri": "https://localhost:8080/"
        },
        "id": "CnLMrZ-MzdMX",
        "outputId": "cc086688-531d-4554-ec60-a07153517b0e"
      },
      "execution_count": 13,
      "outputs": [
        {
          "output_type": "execute_result",
          "data": {
            "text/plain": [
              "array(['CO', 'US', 'AA', 'AS', 'DL', 'B6', 'HA', 'OO', '9E', 'OH', 'EV',\n",
              "       'XE', 'YV', 'UA', 'MQ', 'FL', 'F9', 'WN'], dtype=object)"
            ]
          },
          "metadata": {},
          "execution_count": 13
        }
      ]
    },
    {
      "cell_type": "code",
      "source": [
        "# depois observar a quantidade de voos de cada:\n",
        "\n",
        "dados[\"Airline\"].value_counts()"
      ],
      "metadata": {
        "colab": {
          "base_uri": "https://localhost:8080/"
        },
        "id": "4Q9iAOvy0ezD",
        "outputId": "e5d72e37-c720-4678-8584-3464aa071129"
      },
      "execution_count": 14,
      "outputs": [
        {
          "output_type": "execute_result",
          "data": {
            "text/plain": [
              "WN    94097\n",
              "DL    60940\n",
              "OO    50254\n",
              "AA    45656\n",
              "MQ    36605\n",
              "US    34500\n",
              "XE    31126\n",
              "EV    27983\n",
              "UA    27619\n",
              "CO    21118\n",
              "FL    20827\n",
              "9E    20686\n",
              "B6    18112\n",
              "YV    13725\n",
              "OH    12630\n",
              "AS    11471\n",
              "F9     6456\n",
              "HA     5578\n",
              "Name: Airline, dtype: int64"
            ]
          },
          "metadata": {},
          "execution_count": 14
        }
      ]
    },
    {
      "cell_type": "markdown",
      "source": [
        "verifica-se que a empresa com maior quantidade de voos é a Northwest Airlines (WN)"
      ],
      "metadata": {
        "id": "PVjpI_v_0qon"
      }
    },
    {
      "cell_type": "markdown",
      "source": [
        "**Quais as malhas (Airport From e Airport To) que levam o tempo entre 500 e 1000?**"
      ],
      "metadata": {
        "id": "fDApVgJF1rAx"
      }
    },
    {
      "cell_type": "code",
      "source": [
        "# criar o Subconjunto seguindo o padrão desejado e observar a distribuição de objetos\n",
        "\n",
        "malhas = dados[(dados[\"Time\"] >= 500) & (dados[\"Time\"] <= 1000)]\n",
        "malhas['Time'].value_counts()"
      ],
      "metadata": {
        "colab": {
          "base_uri": "https://localhost:8080/"
        },
        "id": "5kQ-1Odu1kj7",
        "outputId": "04b9789c-bcb2-4502-a61a-2762f8f50fe7"
      },
      "execution_count": 25,
      "outputs": [
        {
          "output_type": "execute_result",
          "data": {
            "text/plain": [
              "540    3723\n",
              "510    3700\n",
              "660    3319\n",
              "990    3158\n",
              "525    3131\n",
              "       ... \n",
              "546      67\n",
              "549      62\n",
              "658      59\n",
              "558      54\n",
              "594      37\n",
              "Name: Time, Length: 501, dtype: int64"
            ]
          },
          "metadata": {},
          "execution_count": 25
        }
      ]
    },
    {
      "cell_type": "code",
      "source": [
        "# mostrar quais malhas seguem o padrão pelo ID \n",
        "\n",
        "malhas[\"id\"].unique()"
      ],
      "metadata": {
        "colab": {
          "base_uri": "https://localhost:8080/"
        },
        "id": "5zO_fLUe4w9g",
        "outputId": "c9180d84-5c97-4910-9db5-4f6029cd1b96"
      },
      "execution_count": 27,
      "outputs": [
        {
          "output_type": "execute_result",
          "data": {
            "text/plain": [
              "array([  3091,   3092,   3093, ..., 535988, 535989, 535990])"
            ]
          },
          "metadata": {},
          "execution_count": 27
        }
      ]
    },
    {
      "cell_type": "markdown",
      "source": [
        "Aparentemente os valores no intervalo de 3091 até 535990 se encaixam no padrão, então há como checar se existem excessões:"
      ],
      "metadata": {
        "id": "0nkaRIDd9PI1"
      }
    },
    {
      "cell_type": "code",
      "source": [
        "check = ((dados[\"Time\"][3091:535990] < 500)|(dados[\"Time\"][3091:535990] > 10000))\n",
        "check.any()"
      ],
      "metadata": {
        "colab": {
          "base_uri": "https://localhost:8080/"
        },
        "id": "dqzkq8F_5r_H",
        "outputId": "90d6dda7-a3f1-4a97-cd8c-aa12f362b592"
      },
      "execution_count": 47,
      "outputs": [
        {
          "output_type": "execute_result",
          "data": {
            "text/plain": [
              "True"
            ]
          },
          "metadata": {},
          "execution_count": 47
        }
      ]
    },
    {
      "cell_type": "code",
      "source": [
        "check.sum()       # existem muitas excessões"
      ],
      "metadata": {
        "colab": {
          "base_uri": "https://localhost:8080/"
        },
        "id": "TBCtXZ_j9h1T",
        "outputId": "55e7b472-681f-45f9-bc27-5c5f4610de49"
      },
      "execution_count": 48,
      "outputs": [
        {
          "output_type": "execute_result",
          "data": {
            "text/plain": [
              "90926"
            ]
          },
          "metadata": {},
          "execution_count": 48
        }
      ]
    },
    {
      "cell_type": "markdown",
      "source": [
        "algumas malhas entre ID 3.091 até 535.990 seguem o padrão, e compõem o subconjunto _malhas_ "
      ],
      "metadata": {
        "id": "e26SzgWF5b5p"
      }
    },
    {
      "cell_type": "markdown",
      "source": [
        "**Quais as malhas (Airport From e Airport To)  que possuem a maior quantidade de voos? Apresentar ordenado do maior para o menor**"
      ],
      "metadata": {
        "id": "mpB64ygOA1Th"
      }
    },
    {
      "cell_type": "code",
      "source": [
        "# como demonstrado acima, a ordem pode ser obtida através de:\n",
        "\n",
        "malhas['AirportFrom'].value_counts()"
      ],
      "metadata": {
        "colab": {
          "base_uri": "https://localhost:8080/"
        },
        "id": "Wqju7LRqAPDh",
        "outputId": "7b20480a-9aa8-47e6-c821-6859a4f6fc7a"
      },
      "execution_count": 55,
      "outputs": [
        {
          "output_type": "execute_result",
          "data": {
            "text/plain": [
              "ATL    20758\n",
              "ORD    13075\n",
              "DFW    12285\n",
              "DEN    11265\n",
              "PHX     9345\n",
              "       ...  \n",
              "ERI       17\n",
              "SJT       15\n",
              "STX       13\n",
              "DBQ        2\n",
              "PLN        1\n",
              "Name: AirportFrom, Length: 285, dtype: int64"
            ]
          },
          "metadata": {},
          "execution_count": 55
        }
      ]
    },
    {
      "cell_type": "code",
      "source": [
        "malhas['AirportTo'].value_counts()"
      ],
      "metadata": {
        "colab": {
          "base_uri": "https://localhost:8080/"
        },
        "id": "YZ36fGM5Blma",
        "outputId": "3c939947-f1b4-4b40-8c69-737eed1fa2e0"
      },
      "execution_count": 56,
      "outputs": [
        {
          "output_type": "execute_result",
          "data": {
            "text/plain": [
              "ATL    18088\n",
              "ORD    13099\n",
              "DFW    12370\n",
              "DEN    10252\n",
              "IAH     8392\n",
              "       ...  \n",
              "PIE        3\n",
              "ABR        2\n",
              "PLN        1\n",
              "MKG        1\n",
              "CDC        1\n",
              "Name: AirportTo, Length: 291, dtype: int64"
            ]
          },
          "metadata": {},
          "execution_count": 56
        }
      ]
    },
    {
      "cell_type": "markdown",
      "source": [
        "**Qual a empresa aérea que possui a maior quantidade de voos com atraso**"
      ],
      "metadata": {
        "id": "ZpRq3jJNB-v6"
      }
    },
    {
      "cell_type": "code",
      "source": [
        "atrasados = dados[dados[\"Delay\"] == 1]\n",
        "atrasados[\"Airline\"].value_counts()"
      ],
      "metadata": {
        "colab": {
          "base_uri": "https://localhost:8080/"
        },
        "id": "ZfedwI1GB_38",
        "outputId": "5fc26a7d-b3c8-45b8-b80e-0462984ab5a5"
      },
      "execution_count": 58,
      "outputs": [
        {
          "output_type": "execute_result",
          "data": {
            "text/plain": [
              "WN    65657\n",
              "DL    27452\n",
              "OO    22760\n",
              "AA    17736\n",
              "MQ    12742\n",
              "CO    11957\n",
              "XE    11795\n",
              "US    11591\n",
              "EV    11255\n",
              "UA     8946\n",
              "B6     8459\n",
              "9E     8226\n",
              "FL     6275\n",
              "AS     3892\n",
              "OH     3502\n",
              "YV     3334\n",
              "F9     2899\n",
              "HA     1786\n",
              "Name: Airline, dtype: int64"
            ]
          },
          "metadata": {},
          "execution_count": 58
        }
      ]
    }
  ]
}