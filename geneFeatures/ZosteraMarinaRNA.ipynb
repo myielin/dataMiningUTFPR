{
  "nbformat": 4,
  "nbformat_minor": 0,
  "metadata": {
    "colab": {
      "provenance": [],
      "authorship_tag": "ABX9TyNmDrkFrC6r13z6SNH4EnSb",
      "include_colab_link": true
    },
    "kernelspec": {
      "name": "python3",
      "display_name": "Python 3"
    },
    "language_info": {
      "name": "python"
    }
  },
  "cells": [
    {
      "cell_type": "markdown",
      "metadata": {
        "id": "view-in-github",
        "colab_type": "text"
      },
      "source": [
        "<a href=\"https://colab.research.google.com/github/myielin/dataMiningUTFPR/blob/master/geneFeatures/ZosteraMarinaRNA.ipynb\" target=\"_parent\"><img src=\"https://colab.research.google.com/assets/colab-badge.svg\" alt=\"Open In Colab\"/></a>"
      ]
    },
    {
      "cell_type": "markdown",
      "source": [
        "# Pré-processamento com MathFeature\n",
        "\n",
        "\n",
        "[Repositório MathFeature](https://bonidia.github.io/MathFeature/)\n",
        "<br>\n",
        "[Repo do notebook](https://github.com/myielin/dataMiningUTFPR/geneFeatures/)\n"
      ],
      "metadata": {
        "id": "QjC5aWHL26YP"
      }
    },
    {
      "cell_type": "markdown",
      "source": [
        "### MathFeature Preprocssing:\n",
        "\n",
        "Os scripts do framework foram executados localmente nas sequências fasta "
      ],
      "metadata": {
        "id": "znIsBI7K34gS"
      }
    },
    {
      "cell_type": "markdown",
      "source": [
        "(linha de comando, na pasta MathFeature/preprocessing)\n",
        "\n",
        "\n",
        "```\n",
        "python3 count_sequences.py -i ../[PATH]/Zmarina-lncRNA.fasta\n",
        "```\n",
        "\n"
      ],
      "metadata": {
        "id": "yqR8bzj35pBk"
      }
    },
    {
      "cell_type": "markdown",
      "source": [
        "- número de sequências em mRNA: 21483\n",
        "- número de sequências em lncRNA: 1393"
      ],
      "metadata": {
        "id": "eJ0YEhY54NAc"
      }
    },
    {
      "cell_type": "markdown",
      "source": [
        "Por haver uma diferença muito grande nas quantidades de sequências, o primeiro arquivo deve ser reduzido proporcionalmente ao segundo.\n",
        "<br>\n",
        "Para isso, no próximo exemplo é criado um novo arquivo fasta com a amostra necessária utilizando o script sampling.py"
      ],
      "metadata": {
        "id": "JQ5EcVW76Uew"
      }
    },
    {
      "cell_type": "markdown",
      "source": [
        "\n",
        "\n",
        "```\n",
        "python3 sampling.py -i ../[PATH]/gencode.v42.transcripts.fa -o ../[PATH]/samp-mRNA.fa -p 1393\n",
        "```\n",
        "\n",
        "Em seguida, são gerados mais dois arquivos com o pré-processamento do mRNA e lncRNA, onde são removidos os ruídos referentes a caracteres que não correspondem a nucleotídeos:\n",
        "\n",
        "\n",
        "\n",
        "```\n",
        "python3 preprocessing.py -i ../[PATH]/samp-mRNA.fa -o ../[PATH]/prep-mRNA.fa\n",
        "```\n",
        "\n",
        "\n",
        "```\n",
        "python3 preprocessing.py -i ../[PATH]/samp-mRNA.fa -o ../[PATH]/prep-lncRNA.fa\n",
        "```\n",
        "\n",
        "\n",
        "\n",
        "\n",
        "\n"
      ],
      "metadata": {
        "id": "uO3tw8eG6QxN"
      }
    },
    {
      "cell_type": "markdown",
      "source": [
        "### Mathfeature Methods:"
      ],
      "metadata": {
        "id": "3Hk_S_8sQe_x"
      }
    },
    {
      "cell_type": "markdown",
      "source": [
        "No exemplo serão utilizados os métodos kmer, transformada de Fourier e entropia de Shannon. Cada método gera um arquivo de csv com base nas informações processadas em fasta"
      ],
      "metadata": {
        "id": "gMM7W0CKQyqU"
      }
    },
    {
      "cell_type": "markdown",
      "source": [
        "Kmer Args:\n",
        "- l: label - corresponde a como a sequencia de entrada será representada. Aqui será usado 0 para RNA não codificante, pois a busca será por RNA mensageiro (1)\n",
        "- t: tipo de extração\n",
        "- seq: RNA (1) ou DNA \n",
        "\n",
        "```\n",
        "python3 ExtractionTechniques.py -i ../[PATH]/prep-lncRNA.fa -o ../[PATH]/kmer-lncRNA.csv -l 0 -t kmer -seq 1\n",
        "```\n",
        "\n",
        "```\n",
        "python3 ExtractionTechniques.py -i ../[PATH]/prep-mRNA.fa -o ../[PATH]/kmer-mRNA.csv -l 1 -t kmer -seq 1\n",
        "```\n",
        "\n",
        "\n",
        "\n"
      ],
      "metadata": {
        "id": "NenWaBxSUY7b"
      }
    },
    {
      "cell_type": "markdown",
      "source": [
        "Shannon Entropy Args:\n",
        "- k: tamanho do kmer que é utilizado nas medições de entropia \n",
        "- e: tipo de entropia (Shannon ou Tsallis)\n",
        "\n",
        "```\n",
        "python3 EntropyClass.py -i ../[PATH]/prep-lncRNA.fa -o ../[PATH]/shannon-lncRNA.csv -l 0 -k 3 -e Shannon\n",
        "```\n",
        "\n",
        "```\n",
        "python3 EntropyClass.py -i ../[PATH]/prep-mRNA.fa -o ../[PATH]/shannon-mRNA.csv -l 1 -k 3 -e Shannon\n",
        "```\n",
        "\n",
        "\n",
        "\n"
      ],
      "metadata": {
        "id": "PKlcDxVFcC7l"
      }
    },
    {
      "cell_type": "markdown",
      "source": [
        "Transformação de Fourier \n",
        "\n",
        "\n",
        "```\n",
        "python3 FourierClass.py -i ../[PATH]/prep-lncRNA.fa -o ../[PATH]/fourier-lncRNA.csv -l 0 -r 3\n",
        "```\n",
        "\n",
        "```\n",
        "python3 FourierClass.py -i ../[PATH]/prep-mRNA.fa -o ../[PATH]/fourier-mRNA.csv -l 1 -r 3\n",
        "```\n"
      ],
      "metadata": {
        "id": "qTRg7eoCjnH_"
      }
    },
    {
      "cell_type": "markdown",
      "source": [
        "Os arquivos csv das diferentes classes de RNA foram então concatenados, gerando os arquivos específicos para lncRNA e mRNA contendo as 3 técnicas."
      ],
      "metadata": {
        "id": "3kSXM--bjFoY"
      }
    },
    {
      "cell_type": "markdown",
      "source": [
        "\n",
        "(na pasta onde estão localizados os arquivos csv)\n",
        "```\n",
        "python3 MathFeature/preprocessing/concatenate.py -n 3 -o lncRNA.csv\n",
        "\n",
        "```\n",
        "(a ordem de concatenação dos conjuntos foi: kmer, fourier, shannon)\n",
        "\n"
      ],
      "metadata": {
        "id": "y0O_063H7YEc"
      }
    },
    {
      "cell_type": "markdown",
      "source": [
        "### pré-processamento nos conjuntos gerados"
      ],
      "metadata": {
        "id": "z59qurPsWV5D"
      }
    },
    {
      "cell_type": "code",
      "source": [
        "import pandas as pd\n",
        "from sklearn.model_selection import train_test_split as tts"
      ],
      "metadata": {
        "id": "dW4QJgUM-2zZ"
      },
      "execution_count": null,
      "outputs": []
    },
    {
      "cell_type": "code",
      "source": [
        "mrna = pd.read_csv(\"https://raw.githubusercontent.com/myielin/dataMiningUTFPR/master/geneFeatures/mRNA.csv\")\n",
        "lrna = pd.read_csv(\"https://raw.githubusercontent.com/myielin/dataMiningUTFPR/master/geneFeatures/lncRNA.csv\")"
      ],
      "metadata": {
        "id": "lpWy_uW6jmrG"
      },
      "execution_count": null,
      "outputs": []
    },
    {
      "cell_type": "markdown",
      "source": [
        "Alguns valores gerados foram NaN, e serão preenchidos utilizando o método ffill ou dropados <br> <br>\n",
        "Os conjuntos de mRNA e lncRNA serão concatenados em uma base geral de rna"
      ],
      "metadata": {
        "id": "09AdrbX48XdN"
      }
    },
    {
      "cell_type": "code",
      "source": [
        "lrna.shape"
      ],
      "metadata": {
        "colab": {
          "base_uri": "https://localhost:8080/"
        },
        "id": "DExB21RG6yk2",
        "outputId": "4091392f-4c76-4b5f-d2ef-8c8d378c376f"
      },
      "execution_count": null,
      "outputs": [
        {
          "output_type": "execute_result",
          "data": {
            "text/plain": [
              "(1393, 108)"
            ]
          },
          "metadata": {},
          "execution_count": 3
        }
      ]
    },
    {
      "cell_type": "code",
      "source": [
        "rna = pd.concat([lrna, mrna])"
      ],
      "metadata": {
        "id": "KQ7HZFsqipem"
      },
      "execution_count": null,
      "outputs": []
    },
    {
      "cell_type": "markdown",
      "source": [
        "Os demais valores categóricos precisam ser transformados em numéricos para então serem divididos os conjuntos de treino e teste"
      ],
      "metadata": {
        "id": "cWxth02v-GOH"
      }
    },
    {
      "cell_type": "code",
      "source": [
        "# dropando a linha onde a concatenação gera strings com os nomes dos atributos\n",
        "rna.drop(1393, axis=0, inplace=True)\n",
        "\n",
        "# rna.fillna(method=\"ffill\", inplace=True)\n",
        "rna.dropna(inplace=True)\n",
        "\n",
        "rna.drop('nameseq', axis=1, inplace = True)\n",
        "\n",
        "# valores do tipo int e str estão misturados nas variáveis, então devem ser convertidos em numéricos\n",
        "for i in (rna.columns):\n",
        "  rna[i] = rna[i].apply(lambda k: float(k))"
      ],
      "metadata": {
        "id": "G4bmN3bZ_Q_6"
      },
      "execution_count": null,
      "outputs": []
    },
    {
      "cell_type": "code",
      "source": [
        "# separando os conjuntos x e y \n",
        "y = rna['label']\n",
        "x = rna.drop('label', axis=1)"
      ],
      "metadata": {
        "id": "EYxpWprGp8Qb"
      },
      "execution_count": null,
      "outputs": []
    },
    {
      "cell_type": "code",
      "source": [
        "x_train, x_test, y_train, y_test = tts(x, y, test_size = 0.25)"
      ],
      "metadata": {
        "id": "u6h5XAB1wCC-"
      },
      "execution_count": null,
      "outputs": []
    },
    {
      "cell_type": "markdown",
      "source": [
        "# Modelos preditivos"
      ],
      "metadata": {
        "id": "YOmpEFGk-4RJ"
      }
    },
    {
      "cell_type": "code",
      "source": [
        "from sklearn.metrics import (recall_score,\n",
        "                             accuracy_score,\n",
        "                             precision_score,\n",
        "                             f1_score)"
      ],
      "metadata": {
        "id": "6nT-qV5P_z_s"
      },
      "execution_count": null,
      "outputs": []
    },
    {
      "cell_type": "code",
      "source": [
        "from sklearn.tree import DecisionTreeClassifier\n",
        "from sklearn.naive_bayes import GaussianNB\n",
        "from sklearn.neighbors import KNeighborsClassifier as Knn"
      ],
      "metadata": {
        "id": "FjH1lf3HAm6O"
      },
      "execution_count": null,
      "outputs": []
    },
    {
      "cell_type": "code",
      "source": [
        "dtc = DecisionTreeClassifier()\n",
        "\n",
        "dtc.fit(x_train, y_train)\n",
        "pred = dtc.predict(x_test)\n",
        "\n",
        "acuracidade = round(accuracy_score(y_test, pred)*100, 2)\n",
        "print(acuracidade)"
      ],
      "metadata": {
        "colab": {
          "base_uri": "https://localhost:8080/"
        },
        "id": "2_IQk02uF2Tx",
        "outputId": "1bf8852c-0857-4f56-8172-4a2683568299"
      },
      "execution_count": null,
      "outputs": [
        {
          "output_type": "stream",
          "name": "stdout",
          "text": [
            "100.0\n"
          ]
        }
      ]
    },
    {
      "cell_type": "code",
      "source": [
        "knn = Knn(n_neighbors=3)\n",
        "\n",
        "knn.fit(x_train, y_train)\n",
        "pred = knn.predict(x_test)\n",
        "\n",
        "precisao = round(precision_score(y_test, pred)*100, 2)\n",
        "print(precisao)"
      ],
      "metadata": {
        "colab": {
          "base_uri": "https://localhost:8080/"
        },
        "id": "7pt0G5WMGE4A",
        "outputId": "58e289ac-1285-40aa-f868-d7cb815e1856"
      },
      "execution_count": null,
      "outputs": [
        {
          "output_type": "stream",
          "name": "stdout",
          "text": [
            "99.44\n"
          ]
        }
      ]
    },
    {
      "cell_type": "code",
      "source": [
        "nb = GaussianNB()\n",
        "\n",
        "nb.fit(x_train, y_train)\n",
        "pred = nb.predict(x_test)\n",
        "\n",
        "precisao = round(accuracy_score(y_test, pred)*100, 2)\n",
        "print(precisao)"
      ],
      "metadata": {
        "colab": {
          "base_uri": "https://localhost:8080/"
        },
        "id": "rTkJ10VeIKm7",
        "outputId": "d872d17c-6330-4a79-b1e8-d8929bea2a69"
      },
      "execution_count": null,
      "outputs": [
        {
          "output_type": "stream",
          "name": "stdout",
          "text": [
            "99.71\n"
          ]
        }
      ]
    }
  ]
}