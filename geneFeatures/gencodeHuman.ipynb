{
  "nbformat": 4,
  "nbformat_minor": 0,
  "metadata": {
    "colab": {
      "provenance": [],
      "authorship_tag": "ABX9TyOSyM642E9EXVR0aOvl3fCe",
      "include_colab_link": true
    },
    "kernelspec": {
      "name": "python3",
      "display_name": "Python 3"
    },
    "language_info": {
      "name": "python"
    }
  },
  "cells": [
    {
      "cell_type": "markdown",
      "metadata": {
        "id": "view-in-github",
        "colab_type": "text"
      },
      "source": [
        "<a href=\"https://colab.research.google.com/github/myielin/dataMiningUTFPR/blob/master/geneFeatures/gencodeHuman.ipynb\" target=\"_parent\"><img src=\"https://colab.research.google.com/assets/colab-badge.svg\" alt=\"Open In Colab\"/></a>"
      ]
    },
    {
      "cell_type": "markdown",
      "source": [
        "# Utilizando MathFeature para seleção de características\n",
        "\n",
        "\n",
        "[Repositório MathFeature](https://bonidia.github.io/MathFeature/)\n",
        "<br>\n",
        "[Repo do notebook](https://github.com/myielin/dataMiningUTFPR/geneFeatures/)\n"
      ],
      "metadata": {
        "id": "QjC5aWHL26YP"
      }
    },
    {
      "cell_type": "markdown",
      "source": [
        "### MathFeature Preprocssing:\n",
        "\n",
        "Os scripts do framework foram executados localmente nas sequências fasta "
      ],
      "metadata": {
        "id": "znIsBI7K34gS"
      }
    },
    {
      "cell_type": "markdown",
      "source": [
        "(linha de comando, na pasta MathFeature/preprocessing)\n",
        "\n",
        "\n",
        "```\n",
        "python3 count_sequences.py -i ../[PATH]/gencode.v42.lncRNA_transcripts.fa\n",
        "```\n",
        "\n"
      ],
      "metadata": {
        "id": "yqR8bzj35pBk"
      }
    },
    {
      "cell_type": "markdown",
      "source": [
        "- número de sequências em mRNA: 252416\n",
        "- número de sequências em lncRNA: 57936"
      ],
      "metadata": {
        "id": "eJ0YEhY54NAc"
      }
    },
    {
      "cell_type": "markdown",
      "source": [
        "Por haver uma diferença muito grande nas quantidades de sequências, o primeiro arquivo deve ser reduzido proporcionalmente ao segundo.\n",
        "<br>\n",
        "Para isso, no próximo exemplo é criado um novo arquivo fasta com a amostra necessária utilizando o script sampling.py"
      ],
      "metadata": {
        "id": "JQ5EcVW76Uew"
      }
    },
    {
      "cell_type": "markdown",
      "source": [
        "\n",
        "\n",
        "```\n",
        "python3 sampling.py -i ../[PATH]/gencode.v42.transcripts.fa -o ../[PATH]/samp-mRNA.fa -p 57936\n",
        "```\n",
        "\n",
        "Em seguida, são gerados mais dois arquivos com o pré-processamento do mRNA e lncRNA, onde são removidos os ruídos referentes a caracteres que não correspondem a nucleotídeos:\n",
        "\n",
        "\n",
        "\n",
        "```\n",
        "python3 preprocessing.py -i ../[PATH]/samp-mRNA.fa -o ../[PATH]/prep-mRNA.fa\n",
        "```\n",
        "\n",
        "\n",
        "```\n",
        "python3 preprocessing.py -i ../[PATH]/samp-mRNA.fa -o ../[PATH]/prep-lncRNA.fa\n",
        "```\n",
        "\n",
        "\n",
        "\n",
        "\n",
        "\n"
      ],
      "metadata": {
        "id": "uO3tw8eG6QxN"
      }
    },
    {
      "cell_type": "markdown",
      "source": [
        "### Mathfeature Methods:"
      ],
      "metadata": {
        "id": "3Hk_S_8sQe_x"
      }
    },
    {
      "cell_type": "markdown",
      "source": [
        "No exemplo serão utilizados os métodos kmer, transformada de Fourier e entropia de Shannon. Cada método gera um arquivo de csv com base nas informações processadas em fasta"
      ],
      "metadata": {
        "id": "gMM7W0CKQyqU"
      }
    },
    {
      "cell_type": "markdown",
      "source": [
        "Kmer Args:\n",
        "- l: label - corresponde a como a sequencia de entrada será representada. Aqui será usado 0 para RNA não codificante, pois a busca será por RNA mensageiro (1)\n",
        "- t: tipo de extração\n",
        "- seq: RNA (1) ou DNA \n",
        "\n",
        "```\n",
        "python3 ExtractionTechniques.py -i ../[PATH]/prep-lncRNA.fa -o ../[PATH]/kmer-lncRNA.csv -l 0 -t kmer -seq 1\n",
        "```\n",
        "\n",
        "```\n",
        "python3 ExtractionTechniques.py -i ../[PATH]/prep-mRNA.fa -o ../[PATH]/kmer-mRNA.csv -l 1 -t kmer -seq 1\n",
        "```\n",
        "\n",
        "\n",
        "\n"
      ],
      "metadata": {
        "id": "NenWaBxSUY7b"
      }
    },
    {
      "cell_type": "markdown",
      "source": [
        "Shannon Entropy Args:\n",
        "- k: tamanho do kmer que é utilizado nas medições de entropia \n",
        "- e: tipo de entropia (Shannon ou Tsallis)\n",
        "\n",
        "```\n",
        "python3 EntropyClass.py -i ../[PATH]/prep-lncRNA.fa -o ../[PATH]/shannon-lncRNA.csv -l 0 -k 3 -e Shannon\n",
        "```\n",
        "\n",
        "```\n",
        "python3 EntropyClass.py -i ../[PATH]/prep-mRNA.fa -o ../[PATH]/shannon-mRNA.csv -l 1 -k 3 -e Shannon\n",
        "```\n",
        "\n",
        "\n",
        "\n"
      ],
      "metadata": {
        "id": "PKlcDxVFcC7l"
      }
    },
    {
      "cell_type": "markdown",
      "source": [
        "Transformação de Fourier \n",
        "\n",
        "\n",
        "```\n",
        "python3 FourierClass.py -i ../[PATH]/prep-lncRNA.fa -o ../[PATH]/fourier-lncRNA.csv -l 0 -r 3\n",
        "```\n",
        "\n",
        "```\n",
        "python3 FourierClass.py -i ../[PATH]/prep-mRNA.fa -o ../[PATH]/fourier-mRNA.csv -l 1 -r 3\n",
        "```\n"
      ],
      "metadata": {
        "id": "qTRg7eoCjnH_"
      }
    },
    {
      "cell_type": "markdown",
      "source": [
        "Os arquivos csv das diferentes classes de RNA foram então concatenados, gerando os arquivos específicos para lncRNA e mRNA contendo as 3 técnicas."
      ],
      "metadata": {
        "id": "3kSXM--bjFoY"
      }
    },
    {
      "cell_type": "markdown",
      "source": [
        "\n",
        "(na pasta onde estão localizados os arquivos csv)\n",
        "```\n",
        "python3 MathFeature/preprocessing/concatenate.py -n 3 -o lncRNA.csv\n",
        "\n",
        "```\n",
        "\n"
      ],
      "metadata": {
        "id": "y0O_063H7YEc"
      }
    },
    {
      "cell_type": "markdown",
      "source": [
        "# Pré-processamento"
      ],
      "metadata": {
        "id": "YOmpEFGk-4RJ"
      }
    },
    {
      "cell_type": "code",
      "source": [],
      "metadata": {
        "id": "dW4QJgUM-2zZ"
      },
      "execution_count": null,
      "outputs": []
    },
    {
      "cell_type": "code",
      "source": [],
      "metadata": {
        "id": "lpWy_uW6jmrG"
      },
      "execution_count": null,
      "outputs": []
    },
    {
      "cell_type": "code",
      "source": [],
      "metadata": {
        "id": "76UXpU6OcCOx"
      },
      "execution_count": null,
      "outputs": []
    },
    {
      "cell_type": "code",
      "execution_count": null,
      "metadata": {
        "id": "NGoBaNA22yY2"
      },
      "outputs": [],
      "source": []
    }
  ]
}