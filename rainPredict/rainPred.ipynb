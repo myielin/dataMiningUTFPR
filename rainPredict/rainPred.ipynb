{
  "nbformat": 4,
  "nbformat_minor": 0,
  "metadata": {
    "colab": {
      "provenance": [],
      "authorship_tag": "ABX9TyPwP46kSQmSzKyao7LsqZ9I",
      "include_colab_link": true
    },
    "kernelspec": {
      "name": "python3",
      "display_name": "Python 3"
    },
    "language_info": {
      "name": "python"
    }
  },
  "cells": [
    {
      "cell_type": "markdown",
      "metadata": {
        "id": "view-in-github",
        "colab_type": "text"
      },
      "source": [
        "<a href=\"https://colab.research.google.com/github/myielin/dataMiningUTFPR/blob/master/rainPredict/rainPred.ipynb\" target=\"_parent\"><img src=\"https://colab.research.google.com/assets/colab-badge.svg\" alt=\"Open In Colab\"/></a>"
      ]
    },
    {
      "cell_type": "markdown",
      "source": [
        "### Passos Iniciais\n",
        "[Repositório no Github](https://github.com/myielin/dataMiningUTFPR/tree/master/rainPredict)"
      ],
      "metadata": {
        "id": "pwrulbv9SHtr"
      }
    },
    {
      "cell_type": "code",
      "execution_count": 1,
      "metadata": {
        "id": "PJSBfh3FSF95"
      },
      "outputs": [],
      "source": [
        "import pandas as pd"
      ]
    },
    {
      "cell_type": "code",
      "source": [
        "dados = pd.read_csv(\"https://raw.githubusercontent.com/myielin/dataMiningUTFPR/master/rainPredict/weatherAUS.csv\")"
      ],
      "metadata": {
        "id": "TcJbjQsyWfdN"
      },
      "execution_count": 2,
      "outputs": []
    },
    {
      "cell_type": "code",
      "source": [
        "dados[230:240]"
      ],
      "metadata": {
        "colab": {
          "base_uri": "https://localhost:8080/",
          "height": 630
        },
        "id": "2GcTwr0iWoKj",
        "outputId": "d0e56eda-e554-401d-a7af-60e28a51ed8d"
      },
      "execution_count": 3,
      "outputs": [
        {
          "output_type": "execute_result",
          "data": {
            "text/plain": [
              "           Date Location  MinTemp  MaxTemp  Rainfall  Evaporation  Sunshine  \\\n",
              "230  2009-07-19   Albury      3.2     14.1       0.6          NaN       NaN   \n",
              "231  2009-07-20   Albury      3.6     16.5       0.2          NaN       NaN   \n",
              "232  2009-07-21   Albury      0.8     17.7       0.0          NaN       NaN   \n",
              "233  2009-07-22   Albury      6.6     12.3       0.0          NaN       NaN   \n",
              "234  2009-07-23   Albury      6.0     13.5       9.8          NaN       NaN   \n",
              "235  2009-07-24   Albury     -0.1     12.9       0.0          NaN       NaN   \n",
              "236  2009-07-25   Albury     -0.3     12.2       0.0          NaN       NaN   \n",
              "237  2009-07-26   Albury      2.1      9.8       0.0          NaN       NaN   \n",
              "238  2009-07-27   Albury      1.3      8.8       0.0          NaN       NaN   \n",
              "239  2009-07-28   Albury      4.2     12.7       3.8          NaN       NaN   \n",
              "\n",
              "    WindGustDir  WindGustSpeed WindDir9am  ... Humidity9am  Humidity3pm  \\\n",
              "230         NNE           24.0        ESE  ...        94.0         65.0   \n",
              "231          NW           39.0        NaN  ...        95.0         53.0   \n",
              "232           N           43.0        ENE  ...        87.0         46.0   \n",
              "233           W           44.0        ENE  ...        74.0         81.0   \n",
              "234         WNW           26.0          W  ...        83.0         58.0   \n",
              "235          NW           22.0        NaN  ...        87.0         58.0   \n",
              "236          NE           20.0        NaN  ...        95.0         61.0   \n",
              "237         SSE           13.0        NaN  ...        85.0         74.0   \n",
              "238           N           20.0        ENE  ...        99.0         91.0   \n",
              "239         WNW           31.0         NW  ...        89.0         71.0   \n",
              "\n",
              "     Pressure9am  Pressure3pm  Cloud9am  Cloud3pm  Temp9am  Temp3pm  \\\n",
              "230       1021.6       1019.8       8.0       8.0      7.8     13.5   \n",
              "231       1023.1       1018.4       8.0       NaN      7.1     16.3   \n",
              "232       1019.7       1013.4       NaN       NaN      6.6     17.6   \n",
              "233       1009.5       1006.2       7.0       8.0     11.3     10.2   \n",
              "234       1015.1       1018.4       7.0       7.0      8.5     12.9   \n",
              "235       1027.3       1025.4       NaN       2.0      3.7     11.6   \n",
              "236       1026.8       1022.7       NaN       NaN      2.5     10.8   \n",
              "237       1018.0       1013.7       5.0       NaN      4.4      9.6   \n",
              "238       1019.9       1019.9       8.0       8.0      4.2      7.3   \n",
              "239       1024.0       1023.1       8.0       8.0      8.8     12.0   \n",
              "\n",
              "     RainToday  RainTomorrow  \n",
              "230         No            No  \n",
              "231         No            No  \n",
              "232         No            No  \n",
              "233         No           Yes  \n",
              "234        Yes            No  \n",
              "235         No            No  \n",
              "236         No            No  \n",
              "237         No            No  \n",
              "238         No           Yes  \n",
              "239        Yes           Yes  \n",
              "\n",
              "[10 rows x 23 columns]"
            ],
            "text/html": [
              "\n",
              "  <div id=\"df-95234cf3-9073-41e8-82b8-60c857f62ffa\">\n",
              "    <div class=\"colab-df-container\">\n",
              "      <div>\n",
              "<style scoped>\n",
              "    .dataframe tbody tr th:only-of-type {\n",
              "        vertical-align: middle;\n",
              "    }\n",
              "\n",
              "    .dataframe tbody tr th {\n",
              "        vertical-align: top;\n",
              "    }\n",
              "\n",
              "    .dataframe thead th {\n",
              "        text-align: right;\n",
              "    }\n",
              "</style>\n",
              "<table border=\"1\" class=\"dataframe\">\n",
              "  <thead>\n",
              "    <tr style=\"text-align: right;\">\n",
              "      <th></th>\n",
              "      <th>Date</th>\n",
              "      <th>Location</th>\n",
              "      <th>MinTemp</th>\n",
              "      <th>MaxTemp</th>\n",
              "      <th>Rainfall</th>\n",
              "      <th>Evaporation</th>\n",
              "      <th>Sunshine</th>\n",
              "      <th>WindGustDir</th>\n",
              "      <th>WindGustSpeed</th>\n",
              "      <th>WindDir9am</th>\n",
              "      <th>...</th>\n",
              "      <th>Humidity9am</th>\n",
              "      <th>Humidity3pm</th>\n",
              "      <th>Pressure9am</th>\n",
              "      <th>Pressure3pm</th>\n",
              "      <th>Cloud9am</th>\n",
              "      <th>Cloud3pm</th>\n",
              "      <th>Temp9am</th>\n",
              "      <th>Temp3pm</th>\n",
              "      <th>RainToday</th>\n",
              "      <th>RainTomorrow</th>\n",
              "    </tr>\n",
              "  </thead>\n",
              "  <tbody>\n",
              "    <tr>\n",
              "      <th>230</th>\n",
              "      <td>2009-07-19</td>\n",
              "      <td>Albury</td>\n",
              "      <td>3.2</td>\n",
              "      <td>14.1</td>\n",
              "      <td>0.6</td>\n",
              "      <td>NaN</td>\n",
              "      <td>NaN</td>\n",
              "      <td>NNE</td>\n",
              "      <td>24.0</td>\n",
              "      <td>ESE</td>\n",
              "      <td>...</td>\n",
              "      <td>94.0</td>\n",
              "      <td>65.0</td>\n",
              "      <td>1021.6</td>\n",
              "      <td>1019.8</td>\n",
              "      <td>8.0</td>\n",
              "      <td>8.0</td>\n",
              "      <td>7.8</td>\n",
              "      <td>13.5</td>\n",
              "      <td>No</td>\n",
              "      <td>No</td>\n",
              "    </tr>\n",
              "    <tr>\n",
              "      <th>231</th>\n",
              "      <td>2009-07-20</td>\n",
              "      <td>Albury</td>\n",
              "      <td>3.6</td>\n",
              "      <td>16.5</td>\n",
              "      <td>0.2</td>\n",
              "      <td>NaN</td>\n",
              "      <td>NaN</td>\n",
              "      <td>NW</td>\n",
              "      <td>39.0</td>\n",
              "      <td>NaN</td>\n",
              "      <td>...</td>\n",
              "      <td>95.0</td>\n",
              "      <td>53.0</td>\n",
              "      <td>1023.1</td>\n",
              "      <td>1018.4</td>\n",
              "      <td>8.0</td>\n",
              "      <td>NaN</td>\n",
              "      <td>7.1</td>\n",
              "      <td>16.3</td>\n",
              "      <td>No</td>\n",
              "      <td>No</td>\n",
              "    </tr>\n",
              "    <tr>\n",
              "      <th>232</th>\n",
              "      <td>2009-07-21</td>\n",
              "      <td>Albury</td>\n",
              "      <td>0.8</td>\n",
              "      <td>17.7</td>\n",
              "      <td>0.0</td>\n",
              "      <td>NaN</td>\n",
              "      <td>NaN</td>\n",
              "      <td>N</td>\n",
              "      <td>43.0</td>\n",
              "      <td>ENE</td>\n",
              "      <td>...</td>\n",
              "      <td>87.0</td>\n",
              "      <td>46.0</td>\n",
              "      <td>1019.7</td>\n",
              "      <td>1013.4</td>\n",
              "      <td>NaN</td>\n",
              "      <td>NaN</td>\n",
              "      <td>6.6</td>\n",
              "      <td>17.6</td>\n",
              "      <td>No</td>\n",
              "      <td>No</td>\n",
              "    </tr>\n",
              "    <tr>\n",
              "      <th>233</th>\n",
              "      <td>2009-07-22</td>\n",
              "      <td>Albury</td>\n",
              "      <td>6.6</td>\n",
              "      <td>12.3</td>\n",
              "      <td>0.0</td>\n",
              "      <td>NaN</td>\n",
              "      <td>NaN</td>\n",
              "      <td>W</td>\n",
              "      <td>44.0</td>\n",
              "      <td>ENE</td>\n",
              "      <td>...</td>\n",
              "      <td>74.0</td>\n",
              "      <td>81.0</td>\n",
              "      <td>1009.5</td>\n",
              "      <td>1006.2</td>\n",
              "      <td>7.0</td>\n",
              "      <td>8.0</td>\n",
              "      <td>11.3</td>\n",
              "      <td>10.2</td>\n",
              "      <td>No</td>\n",
              "      <td>Yes</td>\n",
              "    </tr>\n",
              "    <tr>\n",
              "      <th>234</th>\n",
              "      <td>2009-07-23</td>\n",
              "      <td>Albury</td>\n",
              "      <td>6.0</td>\n",
              "      <td>13.5</td>\n",
              "      <td>9.8</td>\n",
              "      <td>NaN</td>\n",
              "      <td>NaN</td>\n",
              "      <td>WNW</td>\n",
              "      <td>26.0</td>\n",
              "      <td>W</td>\n",
              "      <td>...</td>\n",
              "      <td>83.0</td>\n",
              "      <td>58.0</td>\n",
              "      <td>1015.1</td>\n",
              "      <td>1018.4</td>\n",
              "      <td>7.0</td>\n",
              "      <td>7.0</td>\n",
              "      <td>8.5</td>\n",
              "      <td>12.9</td>\n",
              "      <td>Yes</td>\n",
              "      <td>No</td>\n",
              "    </tr>\n",
              "    <tr>\n",
              "      <th>235</th>\n",
              "      <td>2009-07-24</td>\n",
              "      <td>Albury</td>\n",
              "      <td>-0.1</td>\n",
              "      <td>12.9</td>\n",
              "      <td>0.0</td>\n",
              "      <td>NaN</td>\n",
              "      <td>NaN</td>\n",
              "      <td>NW</td>\n",
              "      <td>22.0</td>\n",
              "      <td>NaN</td>\n",
              "      <td>...</td>\n",
              "      <td>87.0</td>\n",
              "      <td>58.0</td>\n",
              "      <td>1027.3</td>\n",
              "      <td>1025.4</td>\n",
              "      <td>NaN</td>\n",
              "      <td>2.0</td>\n",
              "      <td>3.7</td>\n",
              "      <td>11.6</td>\n",
              "      <td>No</td>\n",
              "      <td>No</td>\n",
              "    </tr>\n",
              "    <tr>\n",
              "      <th>236</th>\n",
              "      <td>2009-07-25</td>\n",
              "      <td>Albury</td>\n",
              "      <td>-0.3</td>\n",
              "      <td>12.2</td>\n",
              "      <td>0.0</td>\n",
              "      <td>NaN</td>\n",
              "      <td>NaN</td>\n",
              "      <td>NE</td>\n",
              "      <td>20.0</td>\n",
              "      <td>NaN</td>\n",
              "      <td>...</td>\n",
              "      <td>95.0</td>\n",
              "      <td>61.0</td>\n",
              "      <td>1026.8</td>\n",
              "      <td>1022.7</td>\n",
              "      <td>NaN</td>\n",
              "      <td>NaN</td>\n",
              "      <td>2.5</td>\n",
              "      <td>10.8</td>\n",
              "      <td>No</td>\n",
              "      <td>No</td>\n",
              "    </tr>\n",
              "    <tr>\n",
              "      <th>237</th>\n",
              "      <td>2009-07-26</td>\n",
              "      <td>Albury</td>\n",
              "      <td>2.1</td>\n",
              "      <td>9.8</td>\n",
              "      <td>0.0</td>\n",
              "      <td>NaN</td>\n",
              "      <td>NaN</td>\n",
              "      <td>SSE</td>\n",
              "      <td>13.0</td>\n",
              "      <td>NaN</td>\n",
              "      <td>...</td>\n",
              "      <td>85.0</td>\n",
              "      <td>74.0</td>\n",
              "      <td>1018.0</td>\n",
              "      <td>1013.7</td>\n",
              "      <td>5.0</td>\n",
              "      <td>NaN</td>\n",
              "      <td>4.4</td>\n",
              "      <td>9.6</td>\n",
              "      <td>No</td>\n",
              "      <td>No</td>\n",
              "    </tr>\n",
              "    <tr>\n",
              "      <th>238</th>\n",
              "      <td>2009-07-27</td>\n",
              "      <td>Albury</td>\n",
              "      <td>1.3</td>\n",
              "      <td>8.8</td>\n",
              "      <td>0.0</td>\n",
              "      <td>NaN</td>\n",
              "      <td>NaN</td>\n",
              "      <td>N</td>\n",
              "      <td>20.0</td>\n",
              "      <td>ENE</td>\n",
              "      <td>...</td>\n",
              "      <td>99.0</td>\n",
              "      <td>91.0</td>\n",
              "      <td>1019.9</td>\n",
              "      <td>1019.9</td>\n",
              "      <td>8.0</td>\n",
              "      <td>8.0</td>\n",
              "      <td>4.2</td>\n",
              "      <td>7.3</td>\n",
              "      <td>No</td>\n",
              "      <td>Yes</td>\n",
              "    </tr>\n",
              "    <tr>\n",
              "      <th>239</th>\n",
              "      <td>2009-07-28</td>\n",
              "      <td>Albury</td>\n",
              "      <td>4.2</td>\n",
              "      <td>12.7</td>\n",
              "      <td>3.8</td>\n",
              "      <td>NaN</td>\n",
              "      <td>NaN</td>\n",
              "      <td>WNW</td>\n",
              "      <td>31.0</td>\n",
              "      <td>NW</td>\n",
              "      <td>...</td>\n",
              "      <td>89.0</td>\n",
              "      <td>71.0</td>\n",
              "      <td>1024.0</td>\n",
              "      <td>1023.1</td>\n",
              "      <td>8.0</td>\n",
              "      <td>8.0</td>\n",
              "      <td>8.8</td>\n",
              "      <td>12.0</td>\n",
              "      <td>Yes</td>\n",
              "      <td>Yes</td>\n",
              "    </tr>\n",
              "  </tbody>\n",
              "</table>\n",
              "<p>10 rows × 23 columns</p>\n",
              "</div>\n",
              "      <button class=\"colab-df-convert\" onclick=\"convertToInteractive('df-95234cf3-9073-41e8-82b8-60c857f62ffa')\"\n",
              "              title=\"Convert this dataframe to an interactive table.\"\n",
              "              style=\"display:none;\">\n",
              "        \n",
              "  <svg xmlns=\"http://www.w3.org/2000/svg\" height=\"24px\"viewBox=\"0 0 24 24\"\n",
              "       width=\"24px\">\n",
              "    <path d=\"M0 0h24v24H0V0z\" fill=\"none\"/>\n",
              "    <path d=\"M18.56 5.44l.94 2.06.94-2.06 2.06-.94-2.06-.94-.94-2.06-.94 2.06-2.06.94zm-11 1L8.5 8.5l.94-2.06 2.06-.94-2.06-.94L8.5 2.5l-.94 2.06-2.06.94zm10 10l.94 2.06.94-2.06 2.06-.94-2.06-.94-.94-2.06-.94 2.06-2.06.94z\"/><path d=\"M17.41 7.96l-1.37-1.37c-.4-.4-.92-.59-1.43-.59-.52 0-1.04.2-1.43.59L10.3 9.45l-7.72 7.72c-.78.78-.78 2.05 0 2.83L4 21.41c.39.39.9.59 1.41.59.51 0 1.02-.2 1.41-.59l7.78-7.78 2.81-2.81c.8-.78.8-2.07 0-2.86zM5.41 20L4 18.59l7.72-7.72 1.47 1.35L5.41 20z\"/>\n",
              "  </svg>\n",
              "      </button>\n",
              "      \n",
              "  <style>\n",
              "    .colab-df-container {\n",
              "      display:flex;\n",
              "      flex-wrap:wrap;\n",
              "      gap: 12px;\n",
              "    }\n",
              "\n",
              "    .colab-df-convert {\n",
              "      background-color: #E8F0FE;\n",
              "      border: none;\n",
              "      border-radius: 50%;\n",
              "      cursor: pointer;\n",
              "      display: none;\n",
              "      fill: #1967D2;\n",
              "      height: 32px;\n",
              "      padding: 0 0 0 0;\n",
              "      width: 32px;\n",
              "    }\n",
              "\n",
              "    .colab-df-convert:hover {\n",
              "      background-color: #E2EBFA;\n",
              "      box-shadow: 0px 1px 2px rgba(60, 64, 67, 0.3), 0px 1px 3px 1px rgba(60, 64, 67, 0.15);\n",
              "      fill: #174EA6;\n",
              "    }\n",
              "\n",
              "    [theme=dark] .colab-df-convert {\n",
              "      background-color: #3B4455;\n",
              "      fill: #D2E3FC;\n",
              "    }\n",
              "\n",
              "    [theme=dark] .colab-df-convert:hover {\n",
              "      background-color: #434B5C;\n",
              "      box-shadow: 0px 1px 3px 1px rgba(0, 0, 0, 0.15);\n",
              "      filter: drop-shadow(0px 1px 2px rgba(0, 0, 0, 0.3));\n",
              "      fill: #FFFFFF;\n",
              "    }\n",
              "  </style>\n",
              "\n",
              "      <script>\n",
              "        const buttonEl =\n",
              "          document.querySelector('#df-95234cf3-9073-41e8-82b8-60c857f62ffa button.colab-df-convert');\n",
              "        buttonEl.style.display =\n",
              "          google.colab.kernel.accessAllowed ? 'block' : 'none';\n",
              "\n",
              "        async function convertToInteractive(key) {\n",
              "          const element = document.querySelector('#df-95234cf3-9073-41e8-82b8-60c857f62ffa');\n",
              "          const dataTable =\n",
              "            await google.colab.kernel.invokeFunction('convertToInteractive',\n",
              "                                                     [key], {});\n",
              "          if (!dataTable) return;\n",
              "\n",
              "          const docLinkHtml = 'Like what you see? Visit the ' +\n",
              "            '<a target=\"_blank\" href=https://colab.research.google.com/notebooks/data_table.ipynb>data table notebook</a>'\n",
              "            + ' to learn more about interactive tables.';\n",
              "          element.innerHTML = '';\n",
              "          dataTable['output_type'] = 'display_data';\n",
              "          await google.colab.output.renderOutput(dataTable, element);\n",
              "          const docLink = document.createElement('div');\n",
              "          docLink.innerHTML = docLinkHtml;\n",
              "          element.appendChild(docLink);\n",
              "        }\n",
              "      </script>\n",
              "    </div>\n",
              "  </div>\n",
              "  "
            ]
          },
          "metadata": {},
          "execution_count": 3
        }
      ]
    },
    {
      "cell_type": "markdown",
      "source": [
        "## Pré-processamento"
      ],
      "metadata": {
        "id": "MCoyLbQ-SEah"
      }
    },
    {
      "cell_type": "markdown",
      "source": [
        "### Exploração\n",
        " Primeiro serão executados alguns métodos para ter uma visão geral dos dados:"
      ],
      "metadata": {
        "id": "SIS3yomkTasY"
      }
    },
    {
      "cell_type": "code",
      "source": [
        "dados.shape"
      ],
      "metadata": {
        "colab": {
          "base_uri": "https://localhost:8080/"
        },
        "id": "abqCpZzXVyG8",
        "outputId": "887ff938-d723-40a3-97b3-21705b312336"
      },
      "execution_count": 4,
      "outputs": [
        {
          "output_type": "execute_result",
          "data": {
            "text/plain": [
              "(145460, 23)"
            ]
          },
          "metadata": {},
          "execution_count": 4
        }
      ]
    },
    {
      "cell_type": "code",
      "source": [
        "dados.info()   "
      ],
      "metadata": {
        "colab": {
          "base_uri": "https://localhost:8080/"
        },
        "id": "p_OI6Uw0TCWw",
        "outputId": "f86583b2-f74c-4d4b-efcf-f66a2edda361"
      },
      "execution_count": 5,
      "outputs": [
        {
          "output_type": "stream",
          "name": "stdout",
          "text": [
            "<class 'pandas.core.frame.DataFrame'>\n",
            "RangeIndex: 145460 entries, 0 to 145459\n",
            "Data columns (total 23 columns):\n",
            " #   Column         Non-Null Count   Dtype  \n",
            "---  ------         --------------   -----  \n",
            " 0   Date           145460 non-null  object \n",
            " 1   Location       145460 non-null  object \n",
            " 2   MinTemp        143975 non-null  float64\n",
            " 3   MaxTemp        144199 non-null  float64\n",
            " 4   Rainfall       142199 non-null  float64\n",
            " 5   Evaporation    82670 non-null   float64\n",
            " 6   Sunshine       75625 non-null   float64\n",
            " 7   WindGustDir    135134 non-null  object \n",
            " 8   WindGustSpeed  135197 non-null  float64\n",
            " 9   WindDir9am     134894 non-null  object \n",
            " 10  WindDir3pm     141232 non-null  object \n",
            " 11  WindSpeed9am   143693 non-null  float64\n",
            " 12  WindSpeed3pm   142398 non-null  float64\n",
            " 13  Humidity9am    142806 non-null  float64\n",
            " 14  Humidity3pm    140953 non-null  float64\n",
            " 15  Pressure9am    130395 non-null  float64\n",
            " 16  Pressure3pm    130432 non-null  float64\n",
            " 17  Cloud9am       89572 non-null   float64\n",
            " 18  Cloud3pm       86102 non-null   float64\n",
            " 19  Temp9am        143693 non-null  float64\n",
            " 20  Temp3pm        141851 non-null  float64\n",
            " 21  RainToday      142199 non-null  object \n",
            " 22  RainTomorrow   142193 non-null  object \n",
            "dtypes: float64(16), object(7)\n",
            "memory usage: 25.5+ MB\n"
          ]
        }
      ]
    },
    {
      "cell_type": "code",
      "source": [
        "dados.isna().sum()"
      ],
      "metadata": {
        "colab": {
          "base_uri": "https://localhost:8080/"
        },
        "id": "FTRw8mwGTlL-",
        "outputId": "d38f5877-5257-4236-8be9-425bf108c787"
      },
      "execution_count": 6,
      "outputs": [
        {
          "output_type": "execute_result",
          "data": {
            "text/plain": [
              "Date                 0\n",
              "Location             0\n",
              "MinTemp           1485\n",
              "MaxTemp           1261\n",
              "Rainfall          3261\n",
              "Evaporation      62790\n",
              "Sunshine         69835\n",
              "WindGustDir      10326\n",
              "WindGustSpeed    10263\n",
              "WindDir9am       10566\n",
              "WindDir3pm        4228\n",
              "WindSpeed9am      1767\n",
              "WindSpeed3pm      3062\n",
              "Humidity9am       2654\n",
              "Humidity3pm       4507\n",
              "Pressure9am      15065\n",
              "Pressure3pm      15028\n",
              "Cloud9am         55888\n",
              "Cloud3pm         59358\n",
              "Temp9am           1767\n",
              "Temp3pm           3609\n",
              "RainToday         3261\n",
              "RainTomorrow      3267\n",
              "dtype: int64"
            ]
          },
          "metadata": {},
          "execution_count": 6
        }
      ]
    },
    {
      "cell_type": "code",
      "source": [
        "dados.describe()"
      ],
      "metadata": {
        "colab": {
          "base_uri": "https://localhost:8080/",
          "height": 364
        },
        "id": "RyIwvMxjVE2V",
        "outputId": "a888bb4c-e49b-4784-9602-fab29659278f"
      },
      "execution_count": 7,
      "outputs": [
        {
          "output_type": "execute_result",
          "data": {
            "text/plain": [
              "             MinTemp        MaxTemp       Rainfall   Evaporation  \\\n",
              "count  143975.000000  144199.000000  142199.000000  82670.000000   \n",
              "mean       12.194034      23.221348       2.360918      5.468232   \n",
              "std         6.398495       7.119049       8.478060      4.193704   \n",
              "min        -8.500000      -4.800000       0.000000      0.000000   \n",
              "25%         7.600000      17.900000       0.000000      2.600000   \n",
              "50%        12.000000      22.600000       0.000000      4.800000   \n",
              "75%        16.900000      28.200000       0.800000      7.400000   \n",
              "max        33.900000      48.100000     371.000000    145.000000   \n",
              "\n",
              "           Sunshine  WindGustSpeed   WindSpeed9am   WindSpeed3pm  \\\n",
              "count  75625.000000  135197.000000  143693.000000  142398.000000   \n",
              "mean       7.611178      40.035230      14.043426      18.662657   \n",
              "std        3.785483      13.607062       8.915375       8.809800   \n",
              "min        0.000000       6.000000       0.000000       0.000000   \n",
              "25%        4.800000      31.000000       7.000000      13.000000   \n",
              "50%        8.400000      39.000000      13.000000      19.000000   \n",
              "75%       10.600000      48.000000      19.000000      24.000000   \n",
              "max       14.500000     135.000000     130.000000      87.000000   \n",
              "\n",
              "         Humidity9am    Humidity3pm   Pressure9am    Pressure3pm  \\\n",
              "count  142806.000000  140953.000000  130395.00000  130432.000000   \n",
              "mean       68.880831      51.539116    1017.64994    1015.255889   \n",
              "std        19.029164      20.795902       7.10653       7.037414   \n",
              "min         0.000000       0.000000     980.50000     977.100000   \n",
              "25%        57.000000      37.000000    1012.90000    1010.400000   \n",
              "50%        70.000000      52.000000    1017.60000    1015.200000   \n",
              "75%        83.000000      66.000000    1022.40000    1020.000000   \n",
              "max       100.000000     100.000000    1041.00000    1039.600000   \n",
              "\n",
              "           Cloud9am      Cloud3pm        Temp9am       Temp3pm  \n",
              "count  89572.000000  86102.000000  143693.000000  141851.00000  \n",
              "mean       4.447461      4.509930      16.990631      21.68339  \n",
              "std        2.887159      2.720357       6.488753       6.93665  \n",
              "min        0.000000      0.000000      -7.200000      -5.40000  \n",
              "25%        1.000000      2.000000      12.300000      16.60000  \n",
              "50%        5.000000      5.000000      16.700000      21.10000  \n",
              "75%        7.000000      7.000000      21.600000      26.40000  \n",
              "max        9.000000      9.000000      40.200000      46.70000  "
            ],
            "text/html": [
              "\n",
              "  <div id=\"df-de732ca3-2e23-4d8d-bd26-a7ae7311631b\">\n",
              "    <div class=\"colab-df-container\">\n",
              "      <div>\n",
              "<style scoped>\n",
              "    .dataframe tbody tr th:only-of-type {\n",
              "        vertical-align: middle;\n",
              "    }\n",
              "\n",
              "    .dataframe tbody tr th {\n",
              "        vertical-align: top;\n",
              "    }\n",
              "\n",
              "    .dataframe thead th {\n",
              "        text-align: right;\n",
              "    }\n",
              "</style>\n",
              "<table border=\"1\" class=\"dataframe\">\n",
              "  <thead>\n",
              "    <tr style=\"text-align: right;\">\n",
              "      <th></th>\n",
              "      <th>MinTemp</th>\n",
              "      <th>MaxTemp</th>\n",
              "      <th>Rainfall</th>\n",
              "      <th>Evaporation</th>\n",
              "      <th>Sunshine</th>\n",
              "      <th>WindGustSpeed</th>\n",
              "      <th>WindSpeed9am</th>\n",
              "      <th>WindSpeed3pm</th>\n",
              "      <th>Humidity9am</th>\n",
              "      <th>Humidity3pm</th>\n",
              "      <th>Pressure9am</th>\n",
              "      <th>Pressure3pm</th>\n",
              "      <th>Cloud9am</th>\n",
              "      <th>Cloud3pm</th>\n",
              "      <th>Temp9am</th>\n",
              "      <th>Temp3pm</th>\n",
              "    </tr>\n",
              "  </thead>\n",
              "  <tbody>\n",
              "    <tr>\n",
              "      <th>count</th>\n",
              "      <td>143975.000000</td>\n",
              "      <td>144199.000000</td>\n",
              "      <td>142199.000000</td>\n",
              "      <td>82670.000000</td>\n",
              "      <td>75625.000000</td>\n",
              "      <td>135197.000000</td>\n",
              "      <td>143693.000000</td>\n",
              "      <td>142398.000000</td>\n",
              "      <td>142806.000000</td>\n",
              "      <td>140953.000000</td>\n",
              "      <td>130395.00000</td>\n",
              "      <td>130432.000000</td>\n",
              "      <td>89572.000000</td>\n",
              "      <td>86102.000000</td>\n",
              "      <td>143693.000000</td>\n",
              "      <td>141851.00000</td>\n",
              "    </tr>\n",
              "    <tr>\n",
              "      <th>mean</th>\n",
              "      <td>12.194034</td>\n",
              "      <td>23.221348</td>\n",
              "      <td>2.360918</td>\n",
              "      <td>5.468232</td>\n",
              "      <td>7.611178</td>\n",
              "      <td>40.035230</td>\n",
              "      <td>14.043426</td>\n",
              "      <td>18.662657</td>\n",
              "      <td>68.880831</td>\n",
              "      <td>51.539116</td>\n",
              "      <td>1017.64994</td>\n",
              "      <td>1015.255889</td>\n",
              "      <td>4.447461</td>\n",
              "      <td>4.509930</td>\n",
              "      <td>16.990631</td>\n",
              "      <td>21.68339</td>\n",
              "    </tr>\n",
              "    <tr>\n",
              "      <th>std</th>\n",
              "      <td>6.398495</td>\n",
              "      <td>7.119049</td>\n",
              "      <td>8.478060</td>\n",
              "      <td>4.193704</td>\n",
              "      <td>3.785483</td>\n",
              "      <td>13.607062</td>\n",
              "      <td>8.915375</td>\n",
              "      <td>8.809800</td>\n",
              "      <td>19.029164</td>\n",
              "      <td>20.795902</td>\n",
              "      <td>7.10653</td>\n",
              "      <td>7.037414</td>\n",
              "      <td>2.887159</td>\n",
              "      <td>2.720357</td>\n",
              "      <td>6.488753</td>\n",
              "      <td>6.93665</td>\n",
              "    </tr>\n",
              "    <tr>\n",
              "      <th>min</th>\n",
              "      <td>-8.500000</td>\n",
              "      <td>-4.800000</td>\n",
              "      <td>0.000000</td>\n",
              "      <td>0.000000</td>\n",
              "      <td>0.000000</td>\n",
              "      <td>6.000000</td>\n",
              "      <td>0.000000</td>\n",
              "      <td>0.000000</td>\n",
              "      <td>0.000000</td>\n",
              "      <td>0.000000</td>\n",
              "      <td>980.50000</td>\n",
              "      <td>977.100000</td>\n",
              "      <td>0.000000</td>\n",
              "      <td>0.000000</td>\n",
              "      <td>-7.200000</td>\n",
              "      <td>-5.40000</td>\n",
              "    </tr>\n",
              "    <tr>\n",
              "      <th>25%</th>\n",
              "      <td>7.600000</td>\n",
              "      <td>17.900000</td>\n",
              "      <td>0.000000</td>\n",
              "      <td>2.600000</td>\n",
              "      <td>4.800000</td>\n",
              "      <td>31.000000</td>\n",
              "      <td>7.000000</td>\n",
              "      <td>13.000000</td>\n",
              "      <td>57.000000</td>\n",
              "      <td>37.000000</td>\n",
              "      <td>1012.90000</td>\n",
              "      <td>1010.400000</td>\n",
              "      <td>1.000000</td>\n",
              "      <td>2.000000</td>\n",
              "      <td>12.300000</td>\n",
              "      <td>16.60000</td>\n",
              "    </tr>\n",
              "    <tr>\n",
              "      <th>50%</th>\n",
              "      <td>12.000000</td>\n",
              "      <td>22.600000</td>\n",
              "      <td>0.000000</td>\n",
              "      <td>4.800000</td>\n",
              "      <td>8.400000</td>\n",
              "      <td>39.000000</td>\n",
              "      <td>13.000000</td>\n",
              "      <td>19.000000</td>\n",
              "      <td>70.000000</td>\n",
              "      <td>52.000000</td>\n",
              "      <td>1017.60000</td>\n",
              "      <td>1015.200000</td>\n",
              "      <td>5.000000</td>\n",
              "      <td>5.000000</td>\n",
              "      <td>16.700000</td>\n",
              "      <td>21.10000</td>\n",
              "    </tr>\n",
              "    <tr>\n",
              "      <th>75%</th>\n",
              "      <td>16.900000</td>\n",
              "      <td>28.200000</td>\n",
              "      <td>0.800000</td>\n",
              "      <td>7.400000</td>\n",
              "      <td>10.600000</td>\n",
              "      <td>48.000000</td>\n",
              "      <td>19.000000</td>\n",
              "      <td>24.000000</td>\n",
              "      <td>83.000000</td>\n",
              "      <td>66.000000</td>\n",
              "      <td>1022.40000</td>\n",
              "      <td>1020.000000</td>\n",
              "      <td>7.000000</td>\n",
              "      <td>7.000000</td>\n",
              "      <td>21.600000</td>\n",
              "      <td>26.40000</td>\n",
              "    </tr>\n",
              "    <tr>\n",
              "      <th>max</th>\n",
              "      <td>33.900000</td>\n",
              "      <td>48.100000</td>\n",
              "      <td>371.000000</td>\n",
              "      <td>145.000000</td>\n",
              "      <td>14.500000</td>\n",
              "      <td>135.000000</td>\n",
              "      <td>130.000000</td>\n",
              "      <td>87.000000</td>\n",
              "      <td>100.000000</td>\n",
              "      <td>100.000000</td>\n",
              "      <td>1041.00000</td>\n",
              "      <td>1039.600000</td>\n",
              "      <td>9.000000</td>\n",
              "      <td>9.000000</td>\n",
              "      <td>40.200000</td>\n",
              "      <td>46.70000</td>\n",
              "    </tr>\n",
              "  </tbody>\n",
              "</table>\n",
              "</div>\n",
              "      <button class=\"colab-df-convert\" onclick=\"convertToInteractive('df-de732ca3-2e23-4d8d-bd26-a7ae7311631b')\"\n",
              "              title=\"Convert this dataframe to an interactive table.\"\n",
              "              style=\"display:none;\">\n",
              "        \n",
              "  <svg xmlns=\"http://www.w3.org/2000/svg\" height=\"24px\"viewBox=\"0 0 24 24\"\n",
              "       width=\"24px\">\n",
              "    <path d=\"M0 0h24v24H0V0z\" fill=\"none\"/>\n",
              "    <path d=\"M18.56 5.44l.94 2.06.94-2.06 2.06-.94-2.06-.94-.94-2.06-.94 2.06-2.06.94zm-11 1L8.5 8.5l.94-2.06 2.06-.94-2.06-.94L8.5 2.5l-.94 2.06-2.06.94zm10 10l.94 2.06.94-2.06 2.06-.94-2.06-.94-.94-2.06-.94 2.06-2.06.94z\"/><path d=\"M17.41 7.96l-1.37-1.37c-.4-.4-.92-.59-1.43-.59-.52 0-1.04.2-1.43.59L10.3 9.45l-7.72 7.72c-.78.78-.78 2.05 0 2.83L4 21.41c.39.39.9.59 1.41.59.51 0 1.02-.2 1.41-.59l7.78-7.78 2.81-2.81c.8-.78.8-2.07 0-2.86zM5.41 20L4 18.59l7.72-7.72 1.47 1.35L5.41 20z\"/>\n",
              "  </svg>\n",
              "      </button>\n",
              "      \n",
              "  <style>\n",
              "    .colab-df-container {\n",
              "      display:flex;\n",
              "      flex-wrap:wrap;\n",
              "      gap: 12px;\n",
              "    }\n",
              "\n",
              "    .colab-df-convert {\n",
              "      background-color: #E8F0FE;\n",
              "      border: none;\n",
              "      border-radius: 50%;\n",
              "      cursor: pointer;\n",
              "      display: none;\n",
              "      fill: #1967D2;\n",
              "      height: 32px;\n",
              "      padding: 0 0 0 0;\n",
              "      width: 32px;\n",
              "    }\n",
              "\n",
              "    .colab-df-convert:hover {\n",
              "      background-color: #E2EBFA;\n",
              "      box-shadow: 0px 1px 2px rgba(60, 64, 67, 0.3), 0px 1px 3px 1px rgba(60, 64, 67, 0.15);\n",
              "      fill: #174EA6;\n",
              "    }\n",
              "\n",
              "    [theme=dark] .colab-df-convert {\n",
              "      background-color: #3B4455;\n",
              "      fill: #D2E3FC;\n",
              "    }\n",
              "\n",
              "    [theme=dark] .colab-df-convert:hover {\n",
              "      background-color: #434B5C;\n",
              "      box-shadow: 0px 1px 3px 1px rgba(0, 0, 0, 0.15);\n",
              "      filter: drop-shadow(0px 1px 2px rgba(0, 0, 0, 0.3));\n",
              "      fill: #FFFFFF;\n",
              "    }\n",
              "  </style>\n",
              "\n",
              "      <script>\n",
              "        const buttonEl =\n",
              "          document.querySelector('#df-de732ca3-2e23-4d8d-bd26-a7ae7311631b button.colab-df-convert');\n",
              "        buttonEl.style.display =\n",
              "          google.colab.kernel.accessAllowed ? 'block' : 'none';\n",
              "\n",
              "        async function convertToInteractive(key) {\n",
              "          const element = document.querySelector('#df-de732ca3-2e23-4d8d-bd26-a7ae7311631b');\n",
              "          const dataTable =\n",
              "            await google.colab.kernel.invokeFunction('convertToInteractive',\n",
              "                                                     [key], {});\n",
              "          if (!dataTable) return;\n",
              "\n",
              "          const docLinkHtml = 'Like what you see? Visit the ' +\n",
              "            '<a target=\"_blank\" href=https://colab.research.google.com/notebooks/data_table.ipynb>data table notebook</a>'\n",
              "            + ' to learn more about interactive tables.';\n",
              "          element.innerHTML = '';\n",
              "          dataTable['output_type'] = 'display_data';\n",
              "          await google.colab.output.renderOutput(dataTable, element);\n",
              "          const docLink = document.createElement('div');\n",
              "          docLink.innerHTML = docLinkHtml;\n",
              "          element.appendChild(docLink);\n",
              "        }\n",
              "      </script>\n",
              "    </div>\n",
              "  </div>\n",
              "  "
            ]
          },
          "metadata": {},
          "execution_count": 7
        }
      ]
    },
    {
      "cell_type": "markdown",
      "source": [
        "### Limpeza"
      ],
      "metadata": {
        "id": "1ya1nWXjUr6X"
      }
    },
    {
      "cell_type": "markdown",
      "source": [
        "Uma vez que a quantidade de dados é muito grande e o número de nulos varia muito para cada atributo, serão realizadas técnicas de imputação nas colunas onde há um número muito grande de nulos e drop nas colunas onde a quantidade de nulos é menor. Dessa forma, espera-se obter equilíbrio entre precisão para o modelo e pouca perda de dados "
      ],
      "metadata": {
        "id": "t22toZAfTCEo"
      }
    },
    {
      "cell_type": "markdown",
      "source": [
        "A célula a seguir filtra todas as colunas que possuem menos de 10% do número total de linhas contendo dados nulos, ou seja, não é esperado que muito mais de 10% do total de dados sejam perdidos se excluídos"
      ],
      "metadata": {
        "id": "H7nARzNBoLLz"
      }
    },
    {
      "cell_type": "code",
      "source": [
        "drops = []          # (como fazer de forma mais eficiente?)\n",
        "print(\"Serão removidos:\\n\")\n",
        "for c in dados.columns:\n",
        "  if(dados[c].isna().sum() < dados.shape[0]* 0.1):     \n",
        "    print(c, dados[c].isna().sum())\n",
        "    drops.append(c)\n",
        "\n",
        "dados.dropna(subset = drops, inplace = True)    "
      ],
      "metadata": {
        "colab": {
          "base_uri": "https://localhost:8080/"
        },
        "id": "I00wBS7nXeg1",
        "outputId": "e6b63344-7471-460d-c002-c1fc45a14e50"
      },
      "execution_count": 8,
      "outputs": [
        {
          "output_type": "stream",
          "name": "stdout",
          "text": [
            "Serão removidos:\n",
            "\n",
            "Date 0\n",
            "Location 0\n",
            "MinTemp 1485\n",
            "MaxTemp 1261\n",
            "Rainfall 3261\n",
            "WindGustDir 10326\n",
            "WindGustSpeed 10263\n",
            "WindDir9am 10566\n",
            "WindDir3pm 4228\n",
            "WindSpeed9am 1767\n",
            "WindSpeed3pm 3062\n",
            "Humidity9am 2654\n",
            "Humidity3pm 4507\n",
            "Temp9am 1767\n",
            "Temp3pm 3609\n",
            "RainToday 3261\n",
            "RainTomorrow 3267\n"
          ]
        }
      ]
    },
    {
      "cell_type": "code",
      "source": [
        "dados.shape    # Verificar a remoção dos dados pela redução no numero de linhas "
      ],
      "metadata": {
        "colab": {
          "base_uri": "https://localhost:8080/"
        },
        "id": "8h3VlzbSaMAQ",
        "outputId": "850bf69f-0125-41b2-b875-7fc5f6802278"
      },
      "execution_count": 9,
      "outputs": [
        {
          "output_type": "execute_result",
          "data": {
            "text/plain": [
              "(121790, 23)"
            ]
          },
          "metadata": {},
          "execution_count": 9
        }
      ]
    },
    {
      "cell_type": "code",
      "source": [
        "# verificar onde restam dados nulos\n",
        "dados.isna().sum()"
      ],
      "metadata": {
        "colab": {
          "base_uri": "https://localhost:8080/"
        },
        "id": "yOB99tvFUpWA",
        "outputId": "d6d5c824-8d49-4e34-ad8e-72ec852436df"
      },
      "execution_count": 10,
      "outputs": [
        {
          "output_type": "execute_result",
          "data": {
            "text/plain": [
              "Date                 0\n",
              "Location             0\n",
              "MinTemp              0\n",
              "MaxTemp              0\n",
              "Rainfall             0\n",
              "Evaporation      49901\n",
              "Sunshine         55069\n",
              "WindGustDir          0\n",
              "WindGustSpeed        0\n",
              "WindDir9am           0\n",
              "WindDir3pm           0\n",
              "WindSpeed9am         0\n",
              "WindSpeed3pm         0\n",
              "Humidity9am          0\n",
              "Humidity3pm          0\n",
              "Pressure9am       8830\n",
              "Pressure3pm       8779\n",
              "Cloud9am         45397\n",
              "Cloud3pm         46740\n",
              "Temp9am              0\n",
              "Temp3pm              0\n",
              "RainToday            0\n",
              "RainTomorrow         0\n",
              "dtype: int64"
            ]
          },
          "metadata": {},
          "execution_count": 10
        }
      ]
    },
    {
      "cell_type": "markdown",
      "source": [
        "**Imputação de dados:** pelo método describe é possível ter uma noção de comportamento dos atributos para selecionar os métodos de preenchimento de informações"
      ],
      "metadata": {
        "id": "AeslK08GN_rS"
      }
    },
    {
      "cell_type": "markdown",
      "source": [
        "Como o intervalo entre máximos e mínimos é muito grande em Evaporation, os valores nulos serão preenchidos usando a mediana, enquanto os dados de Sunshine, com intervalo significativamente menor, serão preenchidos utilizando a média"
      ],
      "metadata": {
        "id": "pfao5bmGPLrt"
      }
    },
    {
      "cell_type": "code",
      "source": [
        "dados[\"Evaporation\"].fillna(dados[\"Evaporation\"].median(), inplace=True)\n",
        "dados[\"Sunshine\"].fillna(dados[\"Sunshine\"].mean(), inplace=True)"
      ],
      "metadata": {
        "id": "1U08ZU8aQJ4P"
      },
      "execution_count": 11,
      "outputs": []
    },
    {
      "cell_type": "markdown",
      "source": [
        "Para os atributos que denotam características similares serão testados os métodos bfill e ffill, que também são semelhantes entre si\n",
        "\n",
        "\n"
      ],
      "metadata": {
        "id": "w2xA65NQJ7c2"
      }
    },
    {
      "cell_type": "code",
      "source": [
        "dados[\"Pressure9am\"].fillna(method=\"bfill\", inplace=True)\n",
        "dados[\"Pressure3pm\"].fillna(method=\"ffill\", inplace=True)\n",
        "dados[\"Cloud9am\"].fillna(method=\"ffill\", inplace=True)\n",
        "dados[\"Cloud3pm\"].fillna(method=\"bfill\", inplace=True)"
      ],
      "metadata": {
        "id": "eatRKya1JxW8"
      },
      "execution_count": 12,
      "outputs": []
    },
    {
      "cell_type": "markdown",
      "source": [
        "Por fim, checar novamente se todos os dados nulos foram returados"
      ],
      "metadata": {
        "id": "vJYdaDbdToDv"
      }
    },
    {
      "cell_type": "code",
      "source": [
        "dados.isna().any()"
      ],
      "metadata": {
        "colab": {
          "base_uri": "https://localhost:8080/"
        },
        "id": "ygcFZAtUTzzt",
        "outputId": "78302a32-c432-41ff-cee7-7cce9a064024"
      },
      "execution_count": 32,
      "outputs": [
        {
          "output_type": "execute_result",
          "data": {
            "text/plain": [
              "Date             False\n",
              "Location         False\n",
              "MinTemp          False\n",
              "MaxTemp          False\n",
              "Rainfall         False\n",
              "Evaporation      False\n",
              "Sunshine         False\n",
              "WindGustDir      False\n",
              "WindGustSpeed    False\n",
              "WindDir9am       False\n",
              "WindDir3pm       False\n",
              "WindSpeed9am     False\n",
              "WindSpeed3pm     False\n",
              "Humidity9am      False\n",
              "Humidity3pm      False\n",
              "Pressure9am      False\n",
              "Pressure3pm      False\n",
              "Cloud9am         False\n",
              "Cloud3pm         False\n",
              "Temp9am          False\n",
              "Temp3pm          False\n",
              "RainToday        False\n",
              "RainTomorrow     False\n",
              "dtype: bool"
            ]
          },
          "metadata": {},
          "execution_count": 32
        }
      ]
    },
    {
      "cell_type": "markdown",
      "source": [
        "#### Transformação de dados categóricos\n",
        "Primeiro serão verificados todos os possíveis valores de cada atributo. Atributos nominais que possuem uma quantidade pequena de diferentes valores serão transformados em 0 ou 1, enquanto atributos que possuem muitos valores distintos serão transformados em ordinais visando evitar a criação desnecessária e excessiva de novas colunas no conjunto de dados"
      ],
      "metadata": {
        "id": "V12QMus0UsDo"
      }
    },
    {
      "cell_type": "code",
      "source": [
        "# verificar quais dados são categóricos\n",
        "\n",
        "c = [d for d in dados.columns if dados[d].dtypes != \"float64\"]\n",
        "c"
      ],
      "metadata": {
        "colab": {
          "base_uri": "https://localhost:8080/"
        },
        "id": "WzoNcrGmIOjG",
        "outputId": "7372931e-d5bc-4ba3-ec19-cc1ccb898ad5"
      },
      "execution_count": 14,
      "outputs": [
        {
          "output_type": "execute_result",
          "data": {
            "text/plain": [
              "['Date',\n",
              " 'Location',\n",
              " 'WindGustDir',\n",
              " 'WindDir9am',\n",
              " 'WindDir3pm',\n",
              " 'RainToday',\n",
              " 'RainTomorrow']"
            ]
          },
          "metadata": {},
          "execution_count": 14
        }
      ]
    },
    {
      "cell_type": "code",
      "source": [
        "for i in c:\n",
        "  print(\"valores em \", i, dados[i].unique())"
      ],
      "metadata": {
        "colab": {
          "base_uri": "https://localhost:8080/"
        },
        "id": "bCMrqmqCHOZ5",
        "outputId": "6bcc11fb-4a53-4cce-b3ac-fc3930a935bc"
      },
      "execution_count": 15,
      "outputs": [
        {
          "output_type": "stream",
          "name": "stdout",
          "text": [
            "valores em  Date ['2008-12-01' '2008-12-02' '2008-12-03' ... '2008-09-08' '2008-10-17'\n",
            " '2008-10-26']\n",
            "valores em  Location ['Albury' 'BadgerysCreek' 'Cobar' 'CoffsHarbour' 'Moree' 'NorahHead'\n",
            " 'NorfolkIsland' 'Penrith' 'Richmond' 'Sydney' 'SydneyAirport'\n",
            " 'WaggaWagga' 'Williamtown' 'Wollongong' 'Canberra' 'Tuggeranong'\n",
            " 'MountGinini' 'Ballarat' 'Bendigo' 'Sale' 'MelbourneAirport' 'Melbourne'\n",
            " 'Mildura' 'Nhil' 'Portland' 'Watsonia' 'Dartmoor' 'Brisbane' 'Cairns'\n",
            " 'GoldCoast' 'Townsville' 'Adelaide' 'MountGambier' 'Nuriootpa' 'Woomera'\n",
            " 'Witchcliffe' 'PearceRAAF' 'PerthAirport' 'Perth' 'SalmonGums' 'Walpole'\n",
            " 'Hobart' 'Launceston' 'AliceSprings' 'Darwin' 'Katherine' 'Uluru']\n",
            "valores em  WindGustDir ['W' 'WNW' 'WSW' 'NE' 'NNW' 'N' 'NNE' 'SW' 'ENE' 'SSE' 'S' 'NW' 'SE' 'ESE'\n",
            " 'E' 'SSW']\n",
            "valores em  WindDir9am ['W' 'NNW' 'SE' 'ENE' 'SW' 'SSE' 'S' 'NE' 'SSW' 'N' 'WSW' 'ESE' 'E' 'NW'\n",
            " 'WNW' 'NNE']\n",
            "valores em  WindDir3pm ['WNW' 'WSW' 'E' 'NW' 'W' 'SSE' 'ESE' 'ENE' 'NNW' 'SSW' 'SW' 'SE' 'N' 'S'\n",
            " 'NNE' 'NE']\n",
            "valores em  RainToday ['No' 'Yes']\n",
            "valores em  RainTomorrow ['No' 'Yes']\n"
          ]
        }
      ]
    },
    {
      "cell_type": "markdown",
      "source": [
        "Dado que a maior parte das colunas possui muitos valores únicos, não será possível utilizar o método hot encoder, então será aplicado o encoder ordinal"
      ],
      "metadata": {
        "id": "eq2zHPs3Eje3"
      }
    },
    {
      "cell_type": "code",
      "source": [
        "from sklearn.preprocessing import OrdinalEncoder"
      ],
      "metadata": {
        "id": "2QQWvwYp2UGj"
      },
      "execution_count": 16,
      "outputs": []
    },
    {
      "cell_type": "code",
      "source": [
        "for i in c[:-2]:              \n",
        "  enc = OrdinalEncoder()\n",
        "  dados[i] = enc.fit_transform(dados[[i]])"
      ],
      "metadata": {
        "id": "c9v_3fmUVJEX"
      },
      "execution_count": 17,
      "outputs": []
    },
    {
      "cell_type": "code",
      "source": [
        "# (é possível juntar em uma só função?)\n",
        "dados[\"RainToday\"] = dados[\"RainToday\"].apply(lambda x: 1 if x == \"Yes\" else 0)\n",
        "dados[\"RainTomorrow\"] = dados[\"RainTomorrow\"].apply(lambda x: 1 if x == \"Yes\" else 0)"
      ],
      "metadata": {
        "id": "Xv7Ynu76UBw3"
      },
      "execution_count": 18,
      "outputs": []
    },
    {
      "cell_type": "markdown",
      "source": [
        "É possível checar um intervalo de dados após todas as transformações:"
      ],
      "metadata": {
        "id": "2ko94x83YtGZ"
      }
    },
    {
      "cell_type": "code",
      "source": [
        "dados[230:240]"
      ],
      "metadata": {
        "colab": {
          "base_uri": "https://localhost:8080/",
          "height": 456
        },
        "id": "KL9hBsWGX8V7",
        "outputId": "2d3c4cb0-5a1f-4767-8baa-303201253af5"
      },
      "execution_count": 19,
      "outputs": [
        {
          "output_type": "execute_result",
          "data": {
            "text/plain": [
              "      Date  Location  MinTemp  MaxTemp  Rainfall  Evaporation  Sunshine  \\\n",
              "301  678.0       1.0      5.5     17.9       0.0          4.8  7.726233   \n",
              "302  679.0       1.0      1.7     17.0       0.0          4.8  7.726233   \n",
              "303  680.0       1.0      4.0     21.4       0.0          4.8  7.726233   \n",
              "304  681.0       1.0      8.9     21.1       0.0          4.8  7.726233   \n",
              "305  682.0       1.0     11.7     22.0       0.0          4.8  7.726233   \n",
              "306  683.0       1.0      8.5     13.5       3.2          4.8  7.726233   \n",
              "309  686.0       1.0      5.2     16.2       0.0          4.8  7.726233   \n",
              "311  688.0       1.0      1.2     16.3       0.0          4.8  7.726233   \n",
              "312  689.0       1.0      3.2     18.2       0.0          4.8  7.726233   \n",
              "313  690.0       1.0      4.6     19.0       0.0          4.8  7.726233   \n",
              "\n",
              "     WindGustDir  WindGustSpeed  WindDir9am  ...  Humidity9am  Humidity3pm  \\\n",
              "301         13.0           43.0        13.0  ...         79.0         56.0   \n",
              "302          7.0           19.0         0.0  ...         73.0         49.0   \n",
              "303          6.0           35.0         0.0  ...         75.0         36.0   \n",
              "304         11.0           28.0         3.0  ...         76.0         61.0   \n",
              "305          9.0           30.0         8.0  ...         68.0         55.0   \n",
              "306         10.0           31.0         2.0  ...         87.0         75.0   \n",
              "309          9.0           37.0         1.0  ...         85.0         77.0   \n",
              "311          2.0           39.0         0.0  ...         65.0         43.0   \n",
              "312         10.0           33.0         2.0  ...         63.0         39.0   \n",
              "313          9.0           22.0         9.0  ...         55.0         36.0   \n",
              "\n",
              "     Pressure9am  Pressure3pm  Cloud9am  Cloud3pm  Temp9am  Temp3pm  \\\n",
              "301       1012.3       1009.9       5.0       1.0      9.2     16.8   \n",
              "302       1015.6       1013.4       5.0       7.0      9.4     16.2   \n",
              "303       1018.0       1013.4       5.0       7.0     11.3     20.9   \n",
              "304       1012.4       1008.8       5.0       7.0     12.9     19.4   \n",
              "305       1009.6       1004.9       5.0       7.0     16.1     20.6   \n",
              "306       1014.0       1015.1       7.0       7.0      9.6     13.0   \n",
              "309       1020.2       1018.3       2.0       2.0      8.8     10.0   \n",
              "311       1024.0       1023.2       2.0       1.0      7.8     15.7   \n",
              "312       1027.7       1025.7       2.0       1.0     11.8     17.8   \n",
              "313       1029.5       1025.7       2.0       1.0     11.2     17.3   \n",
              "\n",
              "     RainToday  RainTomorrow  \n",
              "301          0             0  \n",
              "302          0             0  \n",
              "303          0             0  \n",
              "304          0             0  \n",
              "305          0             1  \n",
              "306          1             1  \n",
              "309          0             1  \n",
              "311          0             0  \n",
              "312          0             0  \n",
              "313          0             0  \n",
              "\n",
              "[10 rows x 23 columns]"
            ],
            "text/html": [
              "\n",
              "  <div id=\"df-1323fd7f-daf5-43ca-8c7e-09e61413d36d\">\n",
              "    <div class=\"colab-df-container\">\n",
              "      <div>\n",
              "<style scoped>\n",
              "    .dataframe tbody tr th:only-of-type {\n",
              "        vertical-align: middle;\n",
              "    }\n",
              "\n",
              "    .dataframe tbody tr th {\n",
              "        vertical-align: top;\n",
              "    }\n",
              "\n",
              "    .dataframe thead th {\n",
              "        text-align: right;\n",
              "    }\n",
              "</style>\n",
              "<table border=\"1\" class=\"dataframe\">\n",
              "  <thead>\n",
              "    <tr style=\"text-align: right;\">\n",
              "      <th></th>\n",
              "      <th>Date</th>\n",
              "      <th>Location</th>\n",
              "      <th>MinTemp</th>\n",
              "      <th>MaxTemp</th>\n",
              "      <th>Rainfall</th>\n",
              "      <th>Evaporation</th>\n",
              "      <th>Sunshine</th>\n",
              "      <th>WindGustDir</th>\n",
              "      <th>WindGustSpeed</th>\n",
              "      <th>WindDir9am</th>\n",
              "      <th>...</th>\n",
              "      <th>Humidity9am</th>\n",
              "      <th>Humidity3pm</th>\n",
              "      <th>Pressure9am</th>\n",
              "      <th>Pressure3pm</th>\n",
              "      <th>Cloud9am</th>\n",
              "      <th>Cloud3pm</th>\n",
              "      <th>Temp9am</th>\n",
              "      <th>Temp3pm</th>\n",
              "      <th>RainToday</th>\n",
              "      <th>RainTomorrow</th>\n",
              "    </tr>\n",
              "  </thead>\n",
              "  <tbody>\n",
              "    <tr>\n",
              "      <th>301</th>\n",
              "      <td>678.0</td>\n",
              "      <td>1.0</td>\n",
              "      <td>5.5</td>\n",
              "      <td>17.9</td>\n",
              "      <td>0.0</td>\n",
              "      <td>4.8</td>\n",
              "      <td>7.726233</td>\n",
              "      <td>13.0</td>\n",
              "      <td>43.0</td>\n",
              "      <td>13.0</td>\n",
              "      <td>...</td>\n",
              "      <td>79.0</td>\n",
              "      <td>56.0</td>\n",
              "      <td>1012.3</td>\n",
              "      <td>1009.9</td>\n",
              "      <td>5.0</td>\n",
              "      <td>1.0</td>\n",
              "      <td>9.2</td>\n",
              "      <td>16.8</td>\n",
              "      <td>0</td>\n",
              "      <td>0</td>\n",
              "    </tr>\n",
              "    <tr>\n",
              "      <th>302</th>\n",
              "      <td>679.0</td>\n",
              "      <td>1.0</td>\n",
              "      <td>1.7</td>\n",
              "      <td>17.0</td>\n",
              "      <td>0.0</td>\n",
              "      <td>4.8</td>\n",
              "      <td>7.726233</td>\n",
              "      <td>7.0</td>\n",
              "      <td>19.0</td>\n",
              "      <td>0.0</td>\n",
              "      <td>...</td>\n",
              "      <td>73.0</td>\n",
              "      <td>49.0</td>\n",
              "      <td>1015.6</td>\n",
              "      <td>1013.4</td>\n",
              "      <td>5.0</td>\n",
              "      <td>7.0</td>\n",
              "      <td>9.4</td>\n",
              "      <td>16.2</td>\n",
              "      <td>0</td>\n",
              "      <td>0</td>\n",
              "    </tr>\n",
              "    <tr>\n",
              "      <th>303</th>\n",
              "      <td>680.0</td>\n",
              "      <td>1.0</td>\n",
              "      <td>4.0</td>\n",
              "      <td>21.4</td>\n",
              "      <td>0.0</td>\n",
              "      <td>4.8</td>\n",
              "      <td>7.726233</td>\n",
              "      <td>6.0</td>\n",
              "      <td>35.0</td>\n",
              "      <td>0.0</td>\n",
              "      <td>...</td>\n",
              "      <td>75.0</td>\n",
              "      <td>36.0</td>\n",
              "      <td>1018.0</td>\n",
              "      <td>1013.4</td>\n",
              "      <td>5.0</td>\n",
              "      <td>7.0</td>\n",
              "      <td>11.3</td>\n",
              "      <td>20.9</td>\n",
              "      <td>0</td>\n",
              "      <td>0</td>\n",
              "    </tr>\n",
              "    <tr>\n",
              "      <th>304</th>\n",
              "      <td>681.0</td>\n",
              "      <td>1.0</td>\n",
              "      <td>8.9</td>\n",
              "      <td>21.1</td>\n",
              "      <td>0.0</td>\n",
              "      <td>4.8</td>\n",
              "      <td>7.726233</td>\n",
              "      <td>11.0</td>\n",
              "      <td>28.0</td>\n",
              "      <td>3.0</td>\n",
              "      <td>...</td>\n",
              "      <td>76.0</td>\n",
              "      <td>61.0</td>\n",
              "      <td>1012.4</td>\n",
              "      <td>1008.8</td>\n",
              "      <td>5.0</td>\n",
              "      <td>7.0</td>\n",
              "      <td>12.9</td>\n",
              "      <td>19.4</td>\n",
              "      <td>0</td>\n",
              "      <td>0</td>\n",
              "    </tr>\n",
              "    <tr>\n",
              "      <th>305</th>\n",
              "      <td>682.0</td>\n",
              "      <td>1.0</td>\n",
              "      <td>11.7</td>\n",
              "      <td>22.0</td>\n",
              "      <td>0.0</td>\n",
              "      <td>4.8</td>\n",
              "      <td>7.726233</td>\n",
              "      <td>9.0</td>\n",
              "      <td>30.0</td>\n",
              "      <td>8.0</td>\n",
              "      <td>...</td>\n",
              "      <td>68.0</td>\n",
              "      <td>55.0</td>\n",
              "      <td>1009.6</td>\n",
              "      <td>1004.9</td>\n",
              "      <td>5.0</td>\n",
              "      <td>7.0</td>\n",
              "      <td>16.1</td>\n",
              "      <td>20.6</td>\n",
              "      <td>0</td>\n",
              "      <td>1</td>\n",
              "    </tr>\n",
              "    <tr>\n",
              "      <th>306</th>\n",
              "      <td>683.0</td>\n",
              "      <td>1.0</td>\n",
              "      <td>8.5</td>\n",
              "      <td>13.5</td>\n",
              "      <td>3.2</td>\n",
              "      <td>4.8</td>\n",
              "      <td>7.726233</td>\n",
              "      <td>10.0</td>\n",
              "      <td>31.0</td>\n",
              "      <td>2.0</td>\n",
              "      <td>...</td>\n",
              "      <td>87.0</td>\n",
              "      <td>75.0</td>\n",
              "      <td>1014.0</td>\n",
              "      <td>1015.1</td>\n",
              "      <td>7.0</td>\n",
              "      <td>7.0</td>\n",
              "      <td>9.6</td>\n",
              "      <td>13.0</td>\n",
              "      <td>1</td>\n",
              "      <td>1</td>\n",
              "    </tr>\n",
              "    <tr>\n",
              "      <th>309</th>\n",
              "      <td>686.0</td>\n",
              "      <td>1.0</td>\n",
              "      <td>5.2</td>\n",
              "      <td>16.2</td>\n",
              "      <td>0.0</td>\n",
              "      <td>4.8</td>\n",
              "      <td>7.726233</td>\n",
              "      <td>9.0</td>\n",
              "      <td>37.0</td>\n",
              "      <td>1.0</td>\n",
              "      <td>...</td>\n",
              "      <td>85.0</td>\n",
              "      <td>77.0</td>\n",
              "      <td>1020.2</td>\n",
              "      <td>1018.3</td>\n",
              "      <td>2.0</td>\n",
              "      <td>2.0</td>\n",
              "      <td>8.8</td>\n",
              "      <td>10.0</td>\n",
              "      <td>0</td>\n",
              "      <td>1</td>\n",
              "    </tr>\n",
              "    <tr>\n",
              "      <th>311</th>\n",
              "      <td>688.0</td>\n",
              "      <td>1.0</td>\n",
              "      <td>1.2</td>\n",
              "      <td>16.3</td>\n",
              "      <td>0.0</td>\n",
              "      <td>4.8</td>\n",
              "      <td>7.726233</td>\n",
              "      <td>2.0</td>\n",
              "      <td>39.0</td>\n",
              "      <td>0.0</td>\n",
              "      <td>...</td>\n",
              "      <td>65.0</td>\n",
              "      <td>43.0</td>\n",
              "      <td>1024.0</td>\n",
              "      <td>1023.2</td>\n",
              "      <td>2.0</td>\n",
              "      <td>1.0</td>\n",
              "      <td>7.8</td>\n",
              "      <td>15.7</td>\n",
              "      <td>0</td>\n",
              "      <td>0</td>\n",
              "    </tr>\n",
              "    <tr>\n",
              "      <th>312</th>\n",
              "      <td>689.0</td>\n",
              "      <td>1.0</td>\n",
              "      <td>3.2</td>\n",
              "      <td>18.2</td>\n",
              "      <td>0.0</td>\n",
              "      <td>4.8</td>\n",
              "      <td>7.726233</td>\n",
              "      <td>10.0</td>\n",
              "      <td>33.0</td>\n",
              "      <td>2.0</td>\n",
              "      <td>...</td>\n",
              "      <td>63.0</td>\n",
              "      <td>39.0</td>\n",
              "      <td>1027.7</td>\n",
              "      <td>1025.7</td>\n",
              "      <td>2.0</td>\n",
              "      <td>1.0</td>\n",
              "      <td>11.8</td>\n",
              "      <td>17.8</td>\n",
              "      <td>0</td>\n",
              "      <td>0</td>\n",
              "    </tr>\n",
              "    <tr>\n",
              "      <th>313</th>\n",
              "      <td>690.0</td>\n",
              "      <td>1.0</td>\n",
              "      <td>4.6</td>\n",
              "      <td>19.0</td>\n",
              "      <td>0.0</td>\n",
              "      <td>4.8</td>\n",
              "      <td>7.726233</td>\n",
              "      <td>9.0</td>\n",
              "      <td>22.0</td>\n",
              "      <td>9.0</td>\n",
              "      <td>...</td>\n",
              "      <td>55.0</td>\n",
              "      <td>36.0</td>\n",
              "      <td>1029.5</td>\n",
              "      <td>1025.7</td>\n",
              "      <td>2.0</td>\n",
              "      <td>1.0</td>\n",
              "      <td>11.2</td>\n",
              "      <td>17.3</td>\n",
              "      <td>0</td>\n",
              "      <td>0</td>\n",
              "    </tr>\n",
              "  </tbody>\n",
              "</table>\n",
              "<p>10 rows × 23 columns</p>\n",
              "</div>\n",
              "      <button class=\"colab-df-convert\" onclick=\"convertToInteractive('df-1323fd7f-daf5-43ca-8c7e-09e61413d36d')\"\n",
              "              title=\"Convert this dataframe to an interactive table.\"\n",
              "              style=\"display:none;\">\n",
              "        \n",
              "  <svg xmlns=\"http://www.w3.org/2000/svg\" height=\"24px\"viewBox=\"0 0 24 24\"\n",
              "       width=\"24px\">\n",
              "    <path d=\"M0 0h24v24H0V0z\" fill=\"none\"/>\n",
              "    <path d=\"M18.56 5.44l.94 2.06.94-2.06 2.06-.94-2.06-.94-.94-2.06-.94 2.06-2.06.94zm-11 1L8.5 8.5l.94-2.06 2.06-.94-2.06-.94L8.5 2.5l-.94 2.06-2.06.94zm10 10l.94 2.06.94-2.06 2.06-.94-2.06-.94-.94-2.06-.94 2.06-2.06.94z\"/><path d=\"M17.41 7.96l-1.37-1.37c-.4-.4-.92-.59-1.43-.59-.52 0-1.04.2-1.43.59L10.3 9.45l-7.72 7.72c-.78.78-.78 2.05 0 2.83L4 21.41c.39.39.9.59 1.41.59.51 0 1.02-.2 1.41-.59l7.78-7.78 2.81-2.81c.8-.78.8-2.07 0-2.86zM5.41 20L4 18.59l7.72-7.72 1.47 1.35L5.41 20z\"/>\n",
              "  </svg>\n",
              "      </button>\n",
              "      \n",
              "  <style>\n",
              "    .colab-df-container {\n",
              "      display:flex;\n",
              "      flex-wrap:wrap;\n",
              "      gap: 12px;\n",
              "    }\n",
              "\n",
              "    .colab-df-convert {\n",
              "      background-color: #E8F0FE;\n",
              "      border: none;\n",
              "      border-radius: 50%;\n",
              "      cursor: pointer;\n",
              "      display: none;\n",
              "      fill: #1967D2;\n",
              "      height: 32px;\n",
              "      padding: 0 0 0 0;\n",
              "      width: 32px;\n",
              "    }\n",
              "\n",
              "    .colab-df-convert:hover {\n",
              "      background-color: #E2EBFA;\n",
              "      box-shadow: 0px 1px 2px rgba(60, 64, 67, 0.3), 0px 1px 3px 1px rgba(60, 64, 67, 0.15);\n",
              "      fill: #174EA6;\n",
              "    }\n",
              "\n",
              "    [theme=dark] .colab-df-convert {\n",
              "      background-color: #3B4455;\n",
              "      fill: #D2E3FC;\n",
              "    }\n",
              "\n",
              "    [theme=dark] .colab-df-convert:hover {\n",
              "      background-color: #434B5C;\n",
              "      box-shadow: 0px 1px 3px 1px rgba(0, 0, 0, 0.15);\n",
              "      filter: drop-shadow(0px 1px 2px rgba(0, 0, 0, 0.3));\n",
              "      fill: #FFFFFF;\n",
              "    }\n",
              "  </style>\n",
              "\n",
              "      <script>\n",
              "        const buttonEl =\n",
              "          document.querySelector('#df-1323fd7f-daf5-43ca-8c7e-09e61413d36d button.colab-df-convert');\n",
              "        buttonEl.style.display =\n",
              "          google.colab.kernel.accessAllowed ? 'block' : 'none';\n",
              "\n",
              "        async function convertToInteractive(key) {\n",
              "          const element = document.querySelector('#df-1323fd7f-daf5-43ca-8c7e-09e61413d36d');\n",
              "          const dataTable =\n",
              "            await google.colab.kernel.invokeFunction('convertToInteractive',\n",
              "                                                     [key], {});\n",
              "          if (!dataTable) return;\n",
              "\n",
              "          const docLinkHtml = 'Like what you see? Visit the ' +\n",
              "            '<a target=\"_blank\" href=https://colab.research.google.com/notebooks/data_table.ipynb>data table notebook</a>'\n",
              "            + ' to learn more about interactive tables.';\n",
              "          element.innerHTML = '';\n",
              "          dataTable['output_type'] = 'display_data';\n",
              "          await google.colab.output.renderOutput(dataTable, element);\n",
              "          const docLink = document.createElement('div');\n",
              "          docLink.innerHTML = docLinkHtml;\n",
              "          element.appendChild(docLink);\n",
              "        }\n",
              "      </script>\n",
              "    </div>\n",
              "  </div>\n",
              "  "
            ]
          },
          "metadata": {},
          "execution_count": 19
        }
      ]
    },
    {
      "cell_type": "markdown",
      "source": [
        "#### Padronização dos dados numéricos\n",
        "\n",
        "Uma vez que é difícil inferir quais atributos seguem distribuição normal, a padronização dos dados será feita utilizando o método minMax"
      ],
      "metadata": {
        "id": "H-4Kue4qZWuw"
      }
    },
    {
      "cell_type": "code",
      "source": [
        "from sklearn.preprocessing import MinMaxScaler "
      ],
      "metadata": {
        "id": "RrRRkg5k5J8j"
      },
      "execution_count": 30,
      "outputs": []
    },
    {
      "cell_type": "code",
      "source": [
        "y = dados[\"RainTomorrow\"].values\n",
        "x = dados.drop([\"RainTomorrow\"], axis=1).values\n",
        "\n",
        "sc = MinMaxScaler()\n",
        "modelo = sc.fit_transform(x)"
      ],
      "metadata": {
        "id": "ecyySIQoZrNs"
      },
      "execution_count": 31,
      "outputs": []
    },
    {
      "cell_type": "markdown",
      "source": [
        "## Modelos de classificação"
      ],
      "metadata": {
        "id": "EQHM0sthVIwr"
      }
    },
    {
      "cell_type": "code",
      "source": [
        "from sklearn.model_selection import train_test_split as tts\n",
        "from sklearn.metrics import accuracy_score\n",
        "from sklearn.model_selection import KFold, StratifiedKFold, cross_val_score\n",
        "from numpy import mean, std"
      ],
      "metadata": {
        "id": "RO0GL_dg4XoI"
      },
      "execution_count": 79,
      "outputs": []
    },
    {
      "cell_type": "code",
      "source": [
        "x_treino, x_teste, y_treino, y_teste = tts(x, y, test_size=0.25, random_state=42)"
      ],
      "metadata": {
        "id": "_gyxHf614roK"
      },
      "execution_count": 23,
      "outputs": []
    },
    {
      "cell_type": "code",
      "source": [
        "kfold = KFold(n_splits = 5, shuffle=True, random_state = 42)"
      ],
      "metadata": {
        "id": "Woij6bHtMkeO"
      },
      "execution_count": 39,
      "outputs": []
    },
    {
      "cell_type": "markdown",
      "source": [
        "### SVM"
      ],
      "metadata": {
        "id": "vVV7rLa_0hH8"
      }
    },
    {
      "cell_type": "code",
      "source": [
        "from sklearn.svm import SVC"
      ],
      "metadata": {
        "id": "3_gkkw-G2-zM"
      },
      "execution_count": 54,
      "outputs": []
    },
    {
      "cell_type": "code",
      "source": [
        "svm = SVC(random_state=42,C = 1)\n",
        "svm.fit(x_treino, y_treino)"
      ],
      "metadata": {
        "colab": {
          "base_uri": "https://localhost:8080/"
        },
        "id": "cYSQXnKkyQE3",
        "outputId": "47fbd03c-a54a-467d-8820-8ed0cee87a8c"
      },
      "execution_count": 55,
      "outputs": [
        {
          "output_type": "execute_result",
          "data": {
            "text/plain": [
              "SVC(C=1, random_state=42)"
            ]
          },
          "metadata": {},
          "execution_count": 55
        }
      ]
    },
    {
      "cell_type": "code",
      "source": [
        "svm_r = svm.predict(x_teste)\n",
        "accuracy_score(y_teste, svm_r)"
      ],
      "metadata": {
        "colab": {
          "base_uri": "https://localhost:8080/"
        },
        "id": "5nf3KE0-mTwf",
        "outputId": "bac6ff14-bb47-4c85-c6e8-4b1222512165"
      },
      "execution_count": 58,
      "outputs": [
        {
          "output_type": "execute_result",
          "data": {
            "text/plain": [
              "0.8153901734104047"
            ]
          },
          "metadata": {},
          "execution_count": 58
        }
      ]
    },
    {
      "cell_type": "markdown",
      "source": [
        "### Random Forest"
      ],
      "metadata": {
        "id": "P4xRCqeCEHyf"
      }
    },
    {
      "cell_type": "code",
      "source": [
        "from sklearn.ensemble import RandomForestClassifier"
      ],
      "metadata": {
        "id": "T7K-9tC_0fjk"
      },
      "execution_count": 24,
      "outputs": []
    },
    {
      "cell_type": "code",
      "source": [
        "rf = RandomForestClassifier(n_estimators=500)\n",
        "rf.fit(x_treino, y_treino)"
      ],
      "metadata": {
        "colab": {
          "base_uri": "https://localhost:8080/"
        },
        "id": "_HbYVhzxOfN0",
        "outputId": "d128be57-396c-4a88-a166-10080e428245"
      },
      "execution_count": 25,
      "outputs": [
        {
          "output_type": "execute_result",
          "data": {
            "text/plain": [
              "RandomForestClassifier(n_estimators=500)"
            ]
          },
          "metadata": {},
          "execution_count": 25
        }
      ]
    },
    {
      "cell_type": "code",
      "source": [
        "rf_r = rf.predict(x_teste)\n",
        "accuracy_score(y_teste, rf_r)"
      ],
      "metadata": {
        "colab": {
          "base_uri": "https://localhost:8080/"
        },
        "id": "RqS7TIQKQJiH",
        "outputId": "b6cba2e6-a650-4897-ea75-c64a8db1cdb8"
      },
      "execution_count": 26,
      "outputs": [
        {
          "output_type": "execute_result",
          "data": {
            "text/plain": [
              "0.8620927482921703"
            ]
          },
          "metadata": {},
          "execution_count": 26
        }
      ]
    },
    {
      "cell_type": "code",
      "source": [
        "rf_cross = cross_val_score(rf, x, y, cv=kfold)"
      ],
      "metadata": {
        "id": "an_ZIM3l2CWR"
      },
      "execution_count": 36,
      "outputs": []
    },
    {
      "cell_type": "code",
      "source": [
        "print(f\"Resultado da validação cruzada média: {rf_cross.mean() *100}%\")"
      ],
      "metadata": {
        "colab": {
          "base_uri": "https://localhost:8080/"
        },
        "id": "-KM9ZtvN-hi4",
        "outputId": "5b2c6b01-b9e4-4b3d-f69c-e62935fa503d"
      },
      "execution_count": 37,
      "outputs": [
        {
          "output_type": "stream",
          "name": "stdout",
          "text": [
            "Resultado da validação cruzada média: 86.30183102060924%\n"
          ]
        }
      ]
    },
    {
      "cell_type": "markdown",
      "source": [
        "### RNA"
      ],
      "metadata": {
        "id": "L8NqOIfN0iG1"
      }
    },
    {
      "cell_type": "code",
      "source": [
        "from sklearn.neural_network import MLPClassifier"
      ],
      "metadata": {
        "id": "-cDiN8Evm83H"
      },
      "execution_count": 40,
      "outputs": []
    },
    {
      "cell_type": "code",
      "source": [
        "rna = MLPClassifier(hidden_layer_sizes = (10))\n",
        "rna.fit(x_treino, y_treino)"
      ],
      "metadata": {
        "colab": {
          "base_uri": "https://localhost:8080/"
        },
        "id": "vV6cTL4809Xx",
        "outputId": "d4e13541-276f-4660-eba8-27a8f8342295"
      },
      "execution_count": 41,
      "outputs": [
        {
          "output_type": "execute_result",
          "data": {
            "text/plain": [
              "MLPClassifier(hidden_layer_sizes=10)"
            ]
          },
          "metadata": {},
          "execution_count": 41
        }
      ]
    },
    {
      "cell_type": "code",
      "source": [
        "rna_r = rna.predict(x_teste)\n",
        "accuracy_score(y_teste, rna_r)"
      ],
      "metadata": {
        "colab": {
          "base_uri": "https://localhost:8080/"
        },
        "id": "z8dabm7n10St",
        "outputId": "a1de9ea4-6baa-4363-b625-7096b6b859e4"
      },
      "execution_count": 42,
      "outputs": [
        {
          "output_type": "execute_result",
          "data": {
            "text/plain": [
              "0.8313518129269575"
            ]
          },
          "metadata": {},
          "execution_count": 42
        }
      ]
    },
    {
      "cell_type": "code",
      "source": [
        "rna_cross = cross_val_score(rna, x, y, cv=kfold)"
      ],
      "metadata": {
        "id": "kj0nhhbh_Yfq"
      },
      "execution_count": 44,
      "outputs": []
    },
    {
      "cell_type": "code",
      "source": [
        "print(f\"Resultado da validação cruzada média: {rna_cross.mean() *100}%\")"
      ],
      "metadata": {
        "colab": {
          "base_uri": "https://localhost:8080/"
        },
        "id": "s0Agz2jgAJgM",
        "outputId": "38cf3c12-7450-4197-bb98-74292b9d30f8"
      },
      "execution_count": 45,
      "outputs": [
        {
          "output_type": "stream",
          "name": "stdout",
          "text": [
            "Resultado da validação cruzada média: 82.24566877411938%\n"
          ]
        }
      ]
    },
    {
      "cell_type": "markdown",
      "source": [
        "### Naive Bayes"
      ],
      "metadata": {
        "id": "typ9C3728lQm"
      }
    },
    {
      "cell_type": "code",
      "source": [
        "from sklearn.naive_bayes import GaussianNB"
      ],
      "metadata": {
        "id": "2sfDNfgD8k6L"
      },
      "execution_count": 46,
      "outputs": []
    },
    {
      "cell_type": "code",
      "source": [
        "nb = GaussianNB()\n",
        "nb.fit(x_treino, y_treino)"
      ],
      "metadata": {
        "colab": {
          "base_uri": "https://localhost:8080/"
        },
        "id": "SnD2AjQT87Ce",
        "outputId": "070c84d1-381d-4db0-c520-05d0d45ffb1c"
      },
      "execution_count": 47,
      "outputs": [
        {
          "output_type": "execute_result",
          "data": {
            "text/plain": [
              "GaussianNB()"
            ]
          },
          "metadata": {},
          "execution_count": 47
        }
      ]
    },
    {
      "cell_type": "code",
      "source": [
        "nb_r = nb.predict(x_teste)\n",
        "accuracy_score(y_teste, nb_r)"
      ],
      "metadata": {
        "colab": {
          "base_uri": "https://localhost:8080/"
        },
        "id": "QZ5x3els9OPj",
        "outputId": "c4c90049-b4cb-46b4-a4a4-6985a80d4daf"
      },
      "execution_count": 48,
      "outputs": [
        {
          "output_type": "execute_result",
          "data": {
            "text/plain": [
              "0.8033368365738308"
            ]
          },
          "metadata": {},
          "execution_count": 48
        }
      ]
    },
    {
      "cell_type": "code",
      "source": [
        "nb_cross = cross_val_score(nb, x, y, cv=kfold)"
      ],
      "metadata": {
        "id": "eM1L0NP2ARYJ"
      },
      "execution_count": 52,
      "outputs": []
    },
    {
      "cell_type": "code",
      "source": [
        "print(f\"Resultado da validação cruzada média: {nb_cross.mean() *100}%\")"
      ],
      "metadata": {
        "colab": {
          "base_uri": "https://localhost:8080/"
        },
        "id": "SP-2_8waANrj",
        "outputId": "d81fe266-f848-479d-9034-ee8d555c9668"
      },
      "execution_count": 53,
      "outputs": [
        {
          "output_type": "stream",
          "name": "stdout",
          "text": [
            "Resultado da validação cruzada média: 80.49265128499876%\n"
          ]
        }
      ]
    },
    {
      "cell_type": "markdown",
      "source": [
        "## Verificações finais e conclusão"
      ],
      "metadata": {
        "id": "J_6yRM3JIXUq"
      }
    },
    {
      "cell_type": "markdown",
      "source": [
        "Como é possível observar, as validações cruzadas simples retornaram valores muito próximos dos testes de pontuação padrão, o que indica confiabilidade nos resultados para métodos não estratificados."
      ],
      "metadata": {
        "id": "z7xzx2IvIgh2"
      }
    },
    {
      "cell_type": "markdown",
      "source": [
        "Para a inferência final dos resultados, dois modelos serão treinados e validados por meio do método k-fold para validação cruzada estratificada, sendo eles:\n",
        "- O modelo Random forest, que apresentou melhor acuracidade e em tempo médio de execução;\n",
        "- O modelo Naive Bayes, que apresentou menor precisão, mas com melhor otimização de tempo."
      ],
      "metadata": {
        "id": "qhAAdQLSJWqD"
      }
    },
    {
      "cell_type": "code",
      "source": [
        "skf = StratifiedKFold()\n",
        "\n",
        "def strat(modelo):\n",
        "  scores = []\n",
        "\n",
        "  for i_treino, i_teste in skf.split(x, y):\n",
        "   fx_treino, fx_teste = x[i_treino], x[i_teste]\n",
        "   fy_treino, fy_teste = y[i_treino], y[i_teste]\n",
        "   modelo.fit(fx_treino, fy_treino)\n",
        "   scores.append(modelo.score(fx_teste, fy_teste))\n",
        "\n",
        "  print(\"Scores totais: \", scores)  \n",
        "  print(\"\\nPrecisões:\\n\")\n",
        "  print(\"mínima: \", min(scores)*100)\n",
        "  print(\"máxima: \", max(scores)*100)\n",
        "  print(\"média: \", mean(scores)*100)\n",
        "  print(\"Desvio Padrão: \", std(scores)*100)"
      ],
      "metadata": {
        "id": "klrzJ_3pS0ij"
      },
      "execution_count": 80,
      "outputs": []
    },
    {
      "cell_type": "code",
      "source": [
        "strat(nb)"
      ],
      "metadata": {
        "colab": {
          "base_uri": "https://localhost:8080/"
        },
        "id": "XGkCz-m1TZQt",
        "outputId": "334dcf1e-0113-4436-ca7a-a0af5b59c348"
      },
      "execution_count": 81,
      "outputs": [
        {
          "output_type": "stream",
          "name": "stdout",
          "text": [
            "Scores totais:  [0.8113556121192216, 0.7639789802118401, 0.7716561294030708, 0.8280647015354299, 0.8258888250266853]\n",
            "\n",
            "Precisões:\n",
            "\n",
            "mínima:  76.397898021184\n",
            "máxima:  82.80647015354299\n",
            "média:  80.01888496592497\n",
            "Desvio Padrão:  2.7157021950732294\n"
          ]
        }
      ]
    },
    {
      "cell_type": "code",
      "source": [
        "strat(rf)"
      ],
      "metadata": {
        "colab": {
          "base_uri": "https://localhost:8080/"
        },
        "id": "K0guseY-U0g7",
        "outputId": "e2290154-5e58-4a51-c983-6b1aebe86bf4"
      },
      "execution_count": 82,
      "outputs": [
        {
          "output_type": "stream",
          "name": "stdout",
          "text": [
            "Scores totais:  [0.8540520568191149, 0.8386567041629034, 0.8417357746941456, 0.8572953444453567, 0.851178257656622]\n",
            "\n",
            "Precisões:\n",
            "\n",
            "mínima:  83.86567041629034\n",
            "máxima:  85.72953444453567\n",
            "média:  84.85836275556287\n",
            "Desvio Padrão:  0.7182850854571102\n"
          ]
        }
      ]
    }
  ]
}