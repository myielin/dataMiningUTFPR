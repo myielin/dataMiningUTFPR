{
  "nbformat": 4,
  "nbformat_minor": 0,
  "metadata": {
    "colab": {
      "provenance": [],
      "authorship_tag": "ABX9TyOq86PK2MFDTyIazculN+Mw",
      "include_colab_link": true
    },
    "kernelspec": {
      "name": "python3",
      "display_name": "Python 3"
    },
    "language_info": {
      "name": "python"
    }
  },
  "cells": [
    {
      "cell_type": "markdown",
      "metadata": {
        "id": "view-in-github",
        "colab_type": "text"
      },
      "source": [
        "<a href=\"https://colab.research.google.com/github/myielin/dataMiningUTFPR/blob/master/dataMiningUTFPR/ZosteraMarinaRNA.ipynb\" target=\"_parent\"><img src=\"https://colab.research.google.com/assets/colab-badge.svg\" alt=\"Open In Colab\"/></a>"
      ]
    },
    {
      "cell_type": "markdown",
      "source": [
        "# Pré-processamento com MathFeature\n",
        "\n",
        "\n",
        "[Repositório MathFeature](https://bonidia.github.io/MathFeature/)\n",
        "<br>\n",
        "[Repo do notebook](https://github.com/myielin/dataMiningUTFPR/geneFeatures/)\n"
      ],
      "metadata": {
        "id": "QjC5aWHL26YP"
      }
    },
    {
      "cell_type": "markdown",
      "source": [
        "### MathFeature Preprocssing:\n",
        "\n",
        "Os scripts do framework foram executados localmente nas sequências fasta "
      ],
      "metadata": {
        "id": "znIsBI7K34gS"
      }
    },
    {
      "cell_type": "markdown",
      "source": [
        "(linha de comando, na pasta MathFeature/preprocessing)\n",
        "\n",
        "\n",
        "```\n",
        "python3 count_sequences.py -i ../[PATH]/Zmarina-lncRNA.fasta\n",
        "```\n",
        "\n"
      ],
      "metadata": {
        "id": "yqR8bzj35pBk"
      }
    },
    {
      "cell_type": "markdown",
      "source": [
        "- número de sequências em mRNA: 21483\n",
        "- número de sequências em lncRNA: 1393"
      ],
      "metadata": {
        "id": "eJ0YEhY54NAc"
      }
    },
    {
      "cell_type": "markdown",
      "source": [
        "Por haver uma diferença muito grande nas quantidades de sequências, o primeiro arquivo deve ser reduzido proporcionalmente ao segundo.\n",
        "<br>\n",
        "Para isso, no próximo exemplo é criado um novo arquivo fasta com a amostra necessária utilizando o script sampling.py"
      ],
      "metadata": {
        "id": "JQ5EcVW76Uew"
      }
    },
    {
      "cell_type": "markdown",
      "source": [
        "\n",
        "\n",
        "```\n",
        "python3 sampling.py -i ../[PATH]/gencode.v42.transcripts.fa -o ../[PATH]/samp-mRNA.fa -p 1393\n",
        "```\n",
        "\n",
        "Em seguida, são gerados mais dois arquivos com o pré-processamento do mRNA e lncRNA, onde são removidos os ruídos referentes a caracteres que não correspondem a nucleotídeos:\n",
        "\n",
        "\n",
        "\n",
        "```\n",
        "python3 preprocessing.py -i ../[PATH]/samp-mRNA.fa -o ../[PATH]/prep-mRNA.fa\n",
        "```\n",
        "\n",
        "\n",
        "```\n",
        "python3 preprocessing.py -i ../[PATH]/samp-mRNA.fa -o ../[PATH]/prep-lncRNA.fa\n",
        "```\n",
        "\n",
        "\n",
        "\n",
        "\n",
        "\n"
      ],
      "metadata": {
        "id": "uO3tw8eG6QxN"
      }
    },
    {
      "cell_type": "markdown",
      "source": [
        "### Mathfeature Methods:"
      ],
      "metadata": {
        "id": "3Hk_S_8sQe_x"
      }
    },
    {
      "cell_type": "markdown",
      "source": [
        "No exemplo serão utilizados os métodos kmer, transformada de Fourier e entropia de Shannon. Cada método gera um arquivo de csv com base nas informações processadas em fasta"
      ],
      "metadata": {
        "id": "gMM7W0CKQyqU"
      }
    },
    {
      "cell_type": "markdown",
      "source": [
        "Kmer Args:\n",
        "- l: label - corresponde a como a sequencia de entrada será representada. Aqui será usado 0 para RNA não codificante, pois a busca será por RNA mensageiro (1)\n",
        "- t: tipo de extração\n",
        "- seq: RNA (1) ou DNA \n",
        "\n",
        "```\n",
        "python3 ExtractionTechniques.py -i ../[PATH]/prep-lncRNA.fa -o ../[PATH]/kmer-lncRNA.csv -l 0 -t kmer -seq 1\n",
        "```\n",
        "\n",
        "```\n",
        "python3 ExtractionTechniques.py -i ../[PATH]/prep-mRNA.fa -o ../[PATH]/kmer-mRNA.csv -l 1 -t kmer -seq 1\n",
        "```\n",
        "\n",
        "\n",
        "\n"
      ],
      "metadata": {
        "id": "NenWaBxSUY7b"
      }
    },
    {
      "cell_type": "markdown",
      "source": [
        "Shannon Entropy Args:\n",
        "- k: tamanho do kmer que é utilizado nas medições de entropia \n",
        "- e: tipo de entropia (Shannon ou Tsallis)\n",
        "\n",
        "```\n",
        "python3 EntropyClass.py -i ../[PATH]/prep-lncRNA.fa -o ../[PATH]/shannon-lncRNA.csv -l 0 -k 3 -e Shannon\n",
        "```\n",
        "\n",
        "```\n",
        "python3 EntropyClass.py -i ../[PATH]/prep-mRNA.fa -o ../[PATH]/shannon-mRNA.csv -l 1 -k 3 -e Shannon\n",
        "```\n",
        "\n",
        "\n",
        "\n"
      ],
      "metadata": {
        "id": "PKlcDxVFcC7l"
      }
    },
    {
      "cell_type": "markdown",
      "source": [
        "Transformação de Fourier \n",
        "\n",
        "\n",
        "```\n",
        "python3 FourierClass.py -i ../[PATH]/prep-lncRNA.fa -o ../[PATH]/fourier-lncRNA.csv -l 0 -r 3\n",
        "```\n",
        "\n",
        "```\n",
        "python3 FourierClass.py -i ../[PATH]/prep-mRNA.fa -o ../[PATH]/fourier-mRNA.csv -l 1 -r 3\n",
        "```\n"
      ],
      "metadata": {
        "id": "qTRg7eoCjnH_"
      }
    },
    {
      "cell_type": "markdown",
      "source": [
        "Os arquivos csv das diferentes classes de RNA foram então concatenados, gerando os arquivos específicos para lncRNA e mRNA contendo as 3 técnicas."
      ],
      "metadata": {
        "id": "3kSXM--bjFoY"
      }
    },
    {
      "cell_type": "markdown",
      "source": [
        "\n",
        "(na pasta onde estão localizados os arquivos csv)\n",
        "```\n",
        "python3 MathFeature/preprocessing/concatenate.py -n 3 -o lncRNA.csv\n",
        "\n",
        "```\n",
        "(a ordem de concatenação dos conjuntos foi: kmer, fourier, shannon)\n",
        "\n"
      ],
      "metadata": {
        "id": "y0O_063H7YEc"
      }
    },
    {
      "cell_type": "markdown",
      "source": [
        "### pré-processamento nos conjuntos gerados"
      ],
      "metadata": {
        "id": "z59qurPsWV5D"
      }
    },
    {
      "cell_type": "code",
      "source": [
        "import pandas as pd\n",
        "from sklearn.model_selection import train_test_split as tts\n",
        "from sklearn.preprocessing import StandardScaler as scalar"
      ],
      "metadata": {
        "id": "dW4QJgUM-2zZ"
      },
      "execution_count": 1,
      "outputs": []
    },
    {
      "cell_type": "code",
      "source": [
        "mrna = pd.read_csv(\"https://raw.githubusercontent.com/myielin/dataMiningUTFPR/master/geneFeatures/mRNA.csv\")\n",
        "lrna = pd.read_csv(\"https://raw.githubusercontent.com/myielin/dataMiningUTFPR/master/geneFeatures/lncRNA.csv\")"
      ],
      "metadata": {
        "id": "lpWy_uW6jmrG"
      },
      "execution_count": 2,
      "outputs": []
    },
    {
      "cell_type": "markdown",
      "source": [
        "Alguns valores gerados foram NaN, e serão preenchidos utilizando o método ffill ou dropados <br> <br>\n",
        "Os conjuntos de mRNA e lncRNA serão concatenados em uma base geral de rna"
      ],
      "metadata": {
        "id": "09AdrbX48XdN"
      }
    },
    {
      "cell_type": "code",
      "source": [
        "lrna.shape"
      ],
      "metadata": {
        "colab": {
          "base_uri": "https://localhost:8080/",
          "height": 0
        },
        "id": "DExB21RG6yk2",
        "outputId": "f72efece-fae4-45c9-a723-069456c9156a"
      },
      "execution_count": 3,
      "outputs": [
        {
          "output_type": "execute_result",
          "data": {
            "text/plain": [
              "(1393, 108)"
            ]
          },
          "metadata": {},
          "execution_count": 3
        }
      ]
    },
    {
      "cell_type": "code",
      "source": [
        "rna = pd.concat([lrna, mrna])\n",
        "\n",
        "# dropando a linha onde a concatenação gera strings com os nomes dos atributos\n",
        "rna.drop(1393, axis=0, inplace=True)"
      ],
      "metadata": {
        "id": "KQ7HZFsqipem"
      },
      "execution_count": 4,
      "outputs": []
    },
    {
      "cell_type": "code",
      "source": [
        "rna.head()"
      ],
      "metadata": {
        "colab": {
          "base_uri": "https://localhost:8080/",
          "height": 300
        },
        "id": "qoqknzaadMP6",
        "outputId": "c793c289-dd8d-42db-ca7e-e4a8c8c1af54"
      },
      "execution_count": 5,
      "outputs": [
        {
          "output_type": "execute_result",
          "data": {
            "text/plain": [
              "                        nameseq         A         C         G         T  \\\n",
              "0  lcl|Zmarina_Zosma100g00100.1  0.241546  0.231884  0.251208  0.275362   \n",
              "1  lcl|Zmarina_Zosma101g00060.1  0.352727  0.183636       0.2  0.263636   \n",
              "2  lcl|Zmarina_Zosma101g00070.1  0.250685  0.194521  0.208219  0.346575   \n",
              "3  lcl|Zmarina_Zosma101g00100.1  0.300866  0.212121  0.151515  0.335498   \n",
              "4  lcl|Zmarina_Zosma101g00360.1  0.357488  0.202899  0.154589  0.285024   \n",
              "\n",
              "         AA        AC        AG        AT        CA  ...      variance  \\\n",
              "0  0.084746  0.043584  0.050847  0.060533   0.05569  ...  3.013191e+05   \n",
              "1  0.151184  0.047359  0.083789  0.069217  0.071038  ...  7.884508e+05   \n",
              "2    0.0631  0.041152  0.039781  0.105624  0.049383  ...  1.208722e+06   \n",
              "3  0.104121  0.047722  0.056399  0.093275  0.073753  ...  5.747894e+05   \n",
              "4  0.150485  0.072816  0.038835  0.092233  0.067961  ...  9.021670e+04   \n",
              "\n",
              "  interquartile_range semi_interquartile_range coefficient_of_variation  \\\n",
              "0          632.721834               316.360917                 1.031537   \n",
              "1          900.300605               450.150302                 1.087848   \n",
              "2         1100.284849               550.142424                 1.041883   \n",
              "3          776.830487               388.415243                 1.076514   \n",
              "4          427.597833               213.798917                 0.942988   \n",
              "\n",
              "   skewness  kurtosis        k1        k2        k3 label  \n",
              "0  1.125760  0.256069  1.997020  3.950788  5.812913     0  \n",
              "1  0.881249  0.259474  1.950744  3.841459  5.677286     0  \n",
              "2  0.929857  0.250195  1.961041  3.889054  5.774241     0  \n",
              "3  0.955633  0.251114  1.936980  3.849014  5.650810     0  \n",
              "4  1.230547  0.289432  1.929947  3.804582  5.464826     0  \n",
              "\n",
              "[5 rows x 108 columns]"
            ],
            "text/html": [
              "\n",
              "  <div id=\"df-5e345d46-e748-42ac-be01-1b2b5e686e48\">\n",
              "    <div class=\"colab-df-container\">\n",
              "      <div>\n",
              "<style scoped>\n",
              "    .dataframe tbody tr th:only-of-type {\n",
              "        vertical-align: middle;\n",
              "    }\n",
              "\n",
              "    .dataframe tbody tr th {\n",
              "        vertical-align: top;\n",
              "    }\n",
              "\n",
              "    .dataframe thead th {\n",
              "        text-align: right;\n",
              "    }\n",
              "</style>\n",
              "<table border=\"1\" class=\"dataframe\">\n",
              "  <thead>\n",
              "    <tr style=\"text-align: right;\">\n",
              "      <th></th>\n",
              "      <th>nameseq</th>\n",
              "      <th>A</th>\n",
              "      <th>C</th>\n",
              "      <th>G</th>\n",
              "      <th>T</th>\n",
              "      <th>AA</th>\n",
              "      <th>AC</th>\n",
              "      <th>AG</th>\n",
              "      <th>AT</th>\n",
              "      <th>CA</th>\n",
              "      <th>...</th>\n",
              "      <th>variance</th>\n",
              "      <th>interquartile_range</th>\n",
              "      <th>semi_interquartile_range</th>\n",
              "      <th>coefficient_of_variation</th>\n",
              "      <th>skewness</th>\n",
              "      <th>kurtosis</th>\n",
              "      <th>k1</th>\n",
              "      <th>k2</th>\n",
              "      <th>k3</th>\n",
              "      <th>label</th>\n",
              "    </tr>\n",
              "  </thead>\n",
              "  <tbody>\n",
              "    <tr>\n",
              "      <th>0</th>\n",
              "      <td>lcl|Zmarina_Zosma100g00100.1</td>\n",
              "      <td>0.241546</td>\n",
              "      <td>0.231884</td>\n",
              "      <td>0.251208</td>\n",
              "      <td>0.275362</td>\n",
              "      <td>0.084746</td>\n",
              "      <td>0.043584</td>\n",
              "      <td>0.050847</td>\n",
              "      <td>0.060533</td>\n",
              "      <td>0.05569</td>\n",
              "      <td>...</td>\n",
              "      <td>3.013191e+05</td>\n",
              "      <td>632.721834</td>\n",
              "      <td>316.360917</td>\n",
              "      <td>1.031537</td>\n",
              "      <td>1.125760</td>\n",
              "      <td>0.256069</td>\n",
              "      <td>1.997020</td>\n",
              "      <td>3.950788</td>\n",
              "      <td>5.812913</td>\n",
              "      <td>0</td>\n",
              "    </tr>\n",
              "    <tr>\n",
              "      <th>1</th>\n",
              "      <td>lcl|Zmarina_Zosma101g00060.1</td>\n",
              "      <td>0.352727</td>\n",
              "      <td>0.183636</td>\n",
              "      <td>0.2</td>\n",
              "      <td>0.263636</td>\n",
              "      <td>0.151184</td>\n",
              "      <td>0.047359</td>\n",
              "      <td>0.083789</td>\n",
              "      <td>0.069217</td>\n",
              "      <td>0.071038</td>\n",
              "      <td>...</td>\n",
              "      <td>7.884508e+05</td>\n",
              "      <td>900.300605</td>\n",
              "      <td>450.150302</td>\n",
              "      <td>1.087848</td>\n",
              "      <td>0.881249</td>\n",
              "      <td>0.259474</td>\n",
              "      <td>1.950744</td>\n",
              "      <td>3.841459</td>\n",
              "      <td>5.677286</td>\n",
              "      <td>0</td>\n",
              "    </tr>\n",
              "    <tr>\n",
              "      <th>2</th>\n",
              "      <td>lcl|Zmarina_Zosma101g00070.1</td>\n",
              "      <td>0.250685</td>\n",
              "      <td>0.194521</td>\n",
              "      <td>0.208219</td>\n",
              "      <td>0.346575</td>\n",
              "      <td>0.0631</td>\n",
              "      <td>0.041152</td>\n",
              "      <td>0.039781</td>\n",
              "      <td>0.105624</td>\n",
              "      <td>0.049383</td>\n",
              "      <td>...</td>\n",
              "      <td>1.208722e+06</td>\n",
              "      <td>1100.284849</td>\n",
              "      <td>550.142424</td>\n",
              "      <td>1.041883</td>\n",
              "      <td>0.929857</td>\n",
              "      <td>0.250195</td>\n",
              "      <td>1.961041</td>\n",
              "      <td>3.889054</td>\n",
              "      <td>5.774241</td>\n",
              "      <td>0</td>\n",
              "    </tr>\n",
              "    <tr>\n",
              "      <th>3</th>\n",
              "      <td>lcl|Zmarina_Zosma101g00100.1</td>\n",
              "      <td>0.300866</td>\n",
              "      <td>0.212121</td>\n",
              "      <td>0.151515</td>\n",
              "      <td>0.335498</td>\n",
              "      <td>0.104121</td>\n",
              "      <td>0.047722</td>\n",
              "      <td>0.056399</td>\n",
              "      <td>0.093275</td>\n",
              "      <td>0.073753</td>\n",
              "      <td>...</td>\n",
              "      <td>5.747894e+05</td>\n",
              "      <td>776.830487</td>\n",
              "      <td>388.415243</td>\n",
              "      <td>1.076514</td>\n",
              "      <td>0.955633</td>\n",
              "      <td>0.251114</td>\n",
              "      <td>1.936980</td>\n",
              "      <td>3.849014</td>\n",
              "      <td>5.650810</td>\n",
              "      <td>0</td>\n",
              "    </tr>\n",
              "    <tr>\n",
              "      <th>4</th>\n",
              "      <td>lcl|Zmarina_Zosma101g00360.1</td>\n",
              "      <td>0.357488</td>\n",
              "      <td>0.202899</td>\n",
              "      <td>0.154589</td>\n",
              "      <td>0.285024</td>\n",
              "      <td>0.150485</td>\n",
              "      <td>0.072816</td>\n",
              "      <td>0.038835</td>\n",
              "      <td>0.092233</td>\n",
              "      <td>0.067961</td>\n",
              "      <td>...</td>\n",
              "      <td>9.021670e+04</td>\n",
              "      <td>427.597833</td>\n",
              "      <td>213.798917</td>\n",
              "      <td>0.942988</td>\n",
              "      <td>1.230547</td>\n",
              "      <td>0.289432</td>\n",
              "      <td>1.929947</td>\n",
              "      <td>3.804582</td>\n",
              "      <td>5.464826</td>\n",
              "      <td>0</td>\n",
              "    </tr>\n",
              "  </tbody>\n",
              "</table>\n",
              "<p>5 rows × 108 columns</p>\n",
              "</div>\n",
              "      <button class=\"colab-df-convert\" onclick=\"convertToInteractive('df-5e345d46-e748-42ac-be01-1b2b5e686e48')\"\n",
              "              title=\"Convert this dataframe to an interactive table.\"\n",
              "              style=\"display:none;\">\n",
              "        \n",
              "  <svg xmlns=\"http://www.w3.org/2000/svg\" height=\"24px\"viewBox=\"0 0 24 24\"\n",
              "       width=\"24px\">\n",
              "    <path d=\"M0 0h24v24H0V0z\" fill=\"none\"/>\n",
              "    <path d=\"M18.56 5.44l.94 2.06.94-2.06 2.06-.94-2.06-.94-.94-2.06-.94 2.06-2.06.94zm-11 1L8.5 8.5l.94-2.06 2.06-.94-2.06-.94L8.5 2.5l-.94 2.06-2.06.94zm10 10l.94 2.06.94-2.06 2.06-.94-2.06-.94-.94-2.06-.94 2.06-2.06.94z\"/><path d=\"M17.41 7.96l-1.37-1.37c-.4-.4-.92-.59-1.43-.59-.52 0-1.04.2-1.43.59L10.3 9.45l-7.72 7.72c-.78.78-.78 2.05 0 2.83L4 21.41c.39.39.9.59 1.41.59.51 0 1.02-.2 1.41-.59l7.78-7.78 2.81-2.81c.8-.78.8-2.07 0-2.86zM5.41 20L4 18.59l7.72-7.72 1.47 1.35L5.41 20z\"/>\n",
              "  </svg>\n",
              "      </button>\n",
              "      \n",
              "  <style>\n",
              "    .colab-df-container {\n",
              "      display:flex;\n",
              "      flex-wrap:wrap;\n",
              "      gap: 12px;\n",
              "    }\n",
              "\n",
              "    .colab-df-convert {\n",
              "      background-color: #E8F0FE;\n",
              "      border: none;\n",
              "      border-radius: 50%;\n",
              "      cursor: pointer;\n",
              "      display: none;\n",
              "      fill: #1967D2;\n",
              "      height: 32px;\n",
              "      padding: 0 0 0 0;\n",
              "      width: 32px;\n",
              "    }\n",
              "\n",
              "    .colab-df-convert:hover {\n",
              "      background-color: #E2EBFA;\n",
              "      box-shadow: 0px 1px 2px rgba(60, 64, 67, 0.3), 0px 1px 3px 1px rgba(60, 64, 67, 0.15);\n",
              "      fill: #174EA6;\n",
              "    }\n",
              "\n",
              "    [theme=dark] .colab-df-convert {\n",
              "      background-color: #3B4455;\n",
              "      fill: #D2E3FC;\n",
              "    }\n",
              "\n",
              "    [theme=dark] .colab-df-convert:hover {\n",
              "      background-color: #434B5C;\n",
              "      box-shadow: 0px 1px 3px 1px rgba(0, 0, 0, 0.15);\n",
              "      filter: drop-shadow(0px 1px 2px rgba(0, 0, 0, 0.3));\n",
              "      fill: #FFFFFF;\n",
              "    }\n",
              "  </style>\n",
              "\n",
              "      <script>\n",
              "        const buttonEl =\n",
              "          document.querySelector('#df-5e345d46-e748-42ac-be01-1b2b5e686e48 button.colab-df-convert');\n",
              "        buttonEl.style.display =\n",
              "          google.colab.kernel.accessAllowed ? 'block' : 'none';\n",
              "\n",
              "        async function convertToInteractive(key) {\n",
              "          const element = document.querySelector('#df-5e345d46-e748-42ac-be01-1b2b5e686e48');\n",
              "          const dataTable =\n",
              "            await google.colab.kernel.invokeFunction('convertToInteractive',\n",
              "                                                     [key], {});\n",
              "          if (!dataTable) return;\n",
              "\n",
              "          const docLinkHtml = 'Like what you see? Visit the ' +\n",
              "            '<a target=\"_blank\" href=https://colab.research.google.com/notebooks/data_table.ipynb>data table notebook</a>'\n",
              "            + ' to learn more about interactive tables.';\n",
              "          element.innerHTML = '';\n",
              "          dataTable['output_type'] = 'display_data';\n",
              "          await google.colab.output.renderOutput(dataTable, element);\n",
              "          const docLink = document.createElement('div');\n",
              "          docLink.innerHTML = docLinkHtml;\n",
              "          element.appendChild(docLink);\n",
              "        }\n",
              "      </script>\n",
              "    </div>\n",
              "  </div>\n",
              "  "
            ]
          },
          "metadata": {},
          "execution_count": 5
        }
      ]
    },
    {
      "cell_type": "markdown",
      "source": [
        "Os demais valores categóricos precisam ser transformados em numéricos para então serem divididos os conjuntos de treino e teste"
      ],
      "metadata": {
        "id": "cWxth02v-GOH"
      }
    },
    {
      "cell_type": "code",
      "source": [
        "rna.fillna(method=\"ffill\", inplace=True)\n",
        "#rna.dropna(inplace=True)\n",
        "\n",
        "rna.drop('nameseq', axis=1, inplace = True)\n",
        "\n",
        "# valores do tipo int e str estão misturados nas variáveis, então devem ser convertidos em numéricos\n",
        "for i in (rna.columns):\n",
        "  rna[i] = rna[i].apply(lambda k: float(k))"
      ],
      "metadata": {
        "id": "G4bmN3bZ_Q_6"
      },
      "execution_count": 6,
      "outputs": []
    },
    {
      "cell_type": "code",
      "source": [
        "# separando os conjuntos x e y \n",
        "y = rna['label']\n",
        "x = rna.drop('label', axis=1)"
      ],
      "metadata": {
        "id": "EYxpWprGp8Qb"
      },
      "execution_count": 7,
      "outputs": []
    },
    {
      "cell_type": "markdown",
      "source": [
        "Os modelos serão testados de três formas:\n",
        "- sem normalização (sem rodar a célula seguinte)\n",
        "- normalização padrão\n",
        "- escala MinMax"
      ],
      "metadata": {
        "id": "6Q_ppEV6fAf9"
      }
    },
    {
      "cell_type": "code",
      "source": [
        "norm = scalar()      # método de padronização (minMax ou normalização)\n",
        "norm.fit_transform(x)"
      ],
      "metadata": {
        "id": "GOybDLw4dlFc",
        "colab": {
          "base_uri": "https://localhost:8080/",
          "height": 0
        },
        "outputId": "171955be-4519-4fb6-f7e6-24cde3008adf"
      },
      "execution_count": 8,
      "outputs": [
        {
          "output_type": "execute_result",
          "data": {
            "text/plain": [
              "array([[-1.11152078,  0.71114766,  0.60703808, ...,  1.08572238,\n",
              "         0.87407965,  0.44203047],\n",
              "       [ 1.3611845 , -0.49562657, -0.73795147, ..., -0.49709104,\n",
              "        -0.76016962, -0.54054464],\n",
              "       [-0.908266  , -0.2233907 , -0.52207178, ..., -0.1449098 ,\n",
              "        -0.04871886,  0.16186501],\n",
              "       ...,\n",
              "       [-0.03219004, -0.01845147, -0.17655442, ...,  0.27471867,\n",
              "         0.394394  ,  0.46372257],\n",
              "       [ 1.15652735, -0.60517361, -1.23554465, ...,  0.27471867,\n",
              "         0.394394  ,  0.46372257],\n",
              "       [ 0.42603264, -0.59629293,  1.02157278, ...,  0.27471867,\n",
              "         0.394394  ,  0.46372257]])"
            ]
          },
          "metadata": {},
          "execution_count": 8
        }
      ]
    },
    {
      "cell_type": "code",
      "source": [
        "x_train, x_test, y_train, y_test = tts(x, y, test_size = 0.25)"
      ],
      "metadata": {
        "id": "u6h5XAB1wCC-"
      },
      "execution_count": 9,
      "outputs": []
    },
    {
      "cell_type": "markdown",
      "source": [
        "# Modelos preditivos\n",
        "O modelo de maior enfoque para análise será árvore de decisão, mas os demais serão utilizados para demonstração."
      ],
      "metadata": {
        "id": "YOmpEFGk-4RJ"
      }
    },
    {
      "cell_type": "code",
      "source": [
        "from sklearn.metrics import (recall_score,\n",
        "                             accuracy_score,\n",
        "                             precision_score,\n",
        "                             f1_score)"
      ],
      "metadata": {
        "id": "6nT-qV5P_z_s"
      },
      "execution_count": 10,
      "outputs": []
    },
    {
      "cell_type": "code",
      "source": [
        "from sklearn.tree import DecisionTreeClassifier\n",
        "from sklearn.naive_bayes import GaussianNB\n",
        "from sklearn.neighbors import KNeighborsClassifier as Knn"
      ],
      "metadata": {
        "id": "FjH1lf3HAm6O"
      },
      "execution_count": 11,
      "outputs": []
    },
    {
      "cell_type": "code",
      "source": [
        "dtc = DecisionTreeClassifier()\n",
        "\n",
        "dtc.fit(x_train, y_train)\n",
        "pred = dtc.predict(x_test)\n",
        "\n",
        "print(\"acuracidade: \", round(accuracy_score(y_test, pred)*100, 2))\n",
        "print(\"Precisão: \", round(precision_score(y_test, pred)*100, 2))\n",
        "print(\"Recall: \", round(recall_score(y_test, pred)*100, 2))\n",
        "print(\"F1: \", round(f1_score(y_test, pred)*100, 2))"
      ],
      "metadata": {
        "colab": {
          "base_uri": "https://localhost:8080/",
          "height": 0
        },
        "id": "2_IQk02uF2Tx",
        "outputId": "066fb5df-7c3d-4701-8069-9c18cdb0743f"
      },
      "execution_count": 12,
      "outputs": [
        {
          "output_type": "stream",
          "name": "stdout",
          "text": [
            "acuracidade:  99.9\n",
            "Precisão:  100.0\n",
            "Recall:  99.72\n",
            "F1:  99.86\n"
          ]
        }
      ]
    },
    {
      "cell_type": "markdown",
      "source": [
        "obs: O genoma da planta Zostera Marina é relativamente pequeno quando comparado ao de animais, então a base de dados é consideravelmente menor do que as presentes no Gencode. Talvez esse fator, somado ao nivelamento dos arquivos FASTA, possa explicar a razão para valores de acuracidade tão altos independentemente da normalização."
      ],
      "metadata": {
        "id": "BFX_nOlrb55-"
      }
    },
    {
      "cell_type": "code",
      "source": [
        "knn = Knn(n_neighbors=3)\n",
        "\n",
        "knn.fit(x_train, y_train)\n",
        "pred = knn.predict(x_test)\n",
        "\n",
        "precisao = round(precision_score(y_test, pred)*100, 2)\n",
        "print(precisao)"
      ],
      "metadata": {
        "colab": {
          "base_uri": "https://localhost:8080/",
          "height": 0
        },
        "id": "7pt0G5WMGE4A",
        "outputId": "a7fdcfc3-c098-44f6-a6bb-17aa8c8310b2"
      },
      "execution_count": 13,
      "outputs": [
        {
          "output_type": "stream",
          "name": "stdout",
          "text": [
            "99.72\n"
          ]
        }
      ]
    },
    {
      "cell_type": "code",
      "source": [
        "nb = GaussianNB()\n",
        "\n",
        "nb.fit(x_train, y_train)\n",
        "pred = nb.predict(x_test)\n",
        "\n",
        "precisao = round(accuracy_score(y_test, pred)*100, 2)\n",
        "print(precisao)"
      ],
      "metadata": {
        "colab": {
          "base_uri": "https://localhost:8080/",
          "height": 0
        },
        "id": "rTkJ10VeIKm7",
        "outputId": "07187861-ce02-4bc6-949d-9d3cb11dd7ea"
      },
      "execution_count": 14,
      "outputs": [
        {
          "output_type": "stream",
          "name": "stdout",
          "text": [
            "99.52\n"
          ]
        }
      ]
    },
    {
      "cell_type": "markdown",
      "source": [
        "# Feature Importance\n",
        "Será utilizado o método wrapper com Recursive feature elimination para análise do algorítmo decision tree. \n"
      ],
      "metadata": {
        "id": "_k0yipkMG_kM"
      }
    },
    {
      "cell_type": "code",
      "source": [
        "from sklearn.feature_selection import RFE"
      ],
      "metadata": {
        "id": "E0MdoiZLO_lO"
      },
      "execution_count": 15,
      "outputs": []
    },
    {
      "cell_type": "code",
      "source": [
        "selector = RFE(dtc, step=1).fit(x, y)\n",
        "print(selector.ranking_)\n",
        "\n",
        "feat = selector.fit_transform(x,y)\n",
        "print(feat)"
      ],
      "metadata": {
        "id": "102qH2qWPGwu"
      },
      "execution_count": null,
      "outputs": []
    },
    {
      "cell_type": "code",
      "source": [
        "temp = pd.Series(selector.support_,index = x.columns)\n",
        "wrapper = temp[temp==True].index\n",
        "\n",
        "feat_list = wrapper.tolist()\n",
        "feat_list"
      ],
      "metadata": {
        "id": "GbLaPkxZQ_Zg"
      },
      "execution_count": null,
      "outputs": []
    },
    {
      "cell_type": "code",
      "source": [
        "feat_tree = DecisionTreeClassifier()\n",
        "feat_tree.fit(feat, y)\n",
        "\n",
        "imp_tree = feat_tree.feature_importances_\n",
        "\n",
        "for i,j in enumerate(imp_tree):\n",
        "  if j != 0:\n",
        "    print('Feature %s - score %f' % (feat_list[i], j) )"
      ],
      "metadata": {
        "colab": {
          "base_uri": "https://localhost:8080/",
          "height": 0
        },
        "id": "ked9ghz-G_PW",
        "outputId": "cf2dbd54-8957-4c6d-af5f-4cdf36fa3720"
      },
      "execution_count": 18,
      "outputs": [
        {
          "output_type": "stream",
          "name": "stdout",
          "text": [
            "Feature TAG - score 0.000538\n",
            "Feature minimum - score 0.999462\n"
          ]
        }
      ]
    },
    {
      "cell_type": "markdown",
      "source": [
        "A maior parte das características teve importância atribuída igual a zero, e os resultados foram definidos com base no atributo Feature minimum, do modelo de transformada de Fourier"
      ],
      "metadata": {
        "id": "SJ2ExRVPVtVH"
      }
    },
    {
      "cell_type": "markdown",
      "source": [
        "Utilizando o método filter as características determinantes serão mantidas no modelo, enquanto as demais serão removidas:"
      ],
      "metadata": {
        "id": "MHdofAcD7Nfv"
      }
    },
    {
      "cell_type": "code",
      "source": [
        "from sklearn.feature_selection import SelectKBest, mutual_info_classif"
      ],
      "metadata": {
        "id": "GopurRop7p9t"
      },
      "execution_count": 19,
      "outputs": []
    },
    {
      "cell_type": "code",
      "source": [
        "selection = SelectKBest(score_func=mutual_info_classif, k=2)\n",
        "selection.fit(x_train, y_train)\n",
        "\n",
        "sel_cols = selection.get_support(indices=True)\n",
        "sel_cols"
      ],
      "metadata": {
        "colab": {
          "base_uri": "https://localhost:8080/",
          "height": 0
        },
        "id": "MrK2_Ynh726T",
        "outputId": "68634e42-168c-4008-e5c4-931c7d90fabd"
      },
      "execution_count": 20,
      "outputs": [
        {
          "output_type": "execute_result",
          "data": {
            "text/plain": [
              "array([87, 93])"
            ]
          },
          "metadata": {},
          "execution_count": 20
        }
      ]
    },
    {
      "cell_type": "code",
      "source": [
        "xsel_treino = selection.transform(x_train)\n",
        "xsel_teste = selection.transform(x_test)\n",
        "\n",
        "sel_model = DecisionTreeClassifier()\n",
        "sel_model.fit(xsel_treino, y_train)\n",
        "\n",
        "sel_pred = sel_model.predict(xsel_teste)\n",
        "round(accuracy_score(y_test,sel_pred)*100,2)"
      ],
      "metadata": {
        "colab": {
          "base_uri": "https://localhost:8080/",
          "height": 0
        },
        "id": "zgnt3w3m8N0J",
        "outputId": "105d6cf0-ef02-4ba8-cb99-ef08945e7471"
      },
      "execution_count": 22,
      "outputs": [
        {
          "output_type": "execute_result",
          "data": {
            "text/plain": [
              "100.0"
            ]
          },
          "metadata": {},
          "execution_count": 22
        }
      ]
    }
  ]
}